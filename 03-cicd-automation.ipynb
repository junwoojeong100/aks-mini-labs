{
 "cells": [
  {
   "cell_type": "markdown",
   "id": "6c1f47c4",
   "metadata": {},
   "source": [
    "# CI/CD 자동화 실습: GitHub Actions & Azure Pipelines\n",
    "이 노트북에서는 GitHub Actions와 Azure Pipelines를 활용하여 컨테이너 기반 애플리케이션의 CI/CD 자동화 실습을 진행합니다."
   ]
  },
  {
   "cell_type": "markdown",
   "id": "33ffb0b4",
   "metadata": {},
   "source": [
    "## 1. CI/CD란?\n",
    "- **CI(Continuous Integration)**: 코드 변경 사항을 자동으로 빌드 및 테스트\n",
    "- **CD(Continuous Delivery/Deployment)**: 애플리케이션을 자동으로 배포\n",
    "\n",
    "### CI/CD의 이점\n",
    "- 빠른 피드백\n",
    "- 자동화된 품질 보증\n",
    "- 신속한 배포"
   ]
  },
  {
   "cell_type": "markdown",
   "id": "39d15d0a",
   "metadata": {},
   "source": [
    "## 2. GitHub Actions로 CI/CD 구현\n",
    "GitHub Actions는 GitHub 저장소에서 직접 워크플로우를 자동화할 수 있는 도구입니다.\n",
    "\n",
    "### 예시 워크플로우 (build-and-push.yml)\n",
    "아래는 컨테이너 이미지를 빌드하고 ACR로 푸시하는 GitHub Actions 워크플로우 예시입니다."
   ]
  },
  {
   "cell_type": "code",
   "execution_count": null,
   "id": "b9753c39",
   "metadata": {
    "vscode": {
     "languageId": "yaml"
    }
   },
   "outputs": [],
   "source": [
    "# .github/workflows/build-and-push.yml\n",
    "name: Build and Push to ACR\n",
    "on:\n",
    "  push:\n",
    "    branches: [ main ]\n",
    "jobs:\n",
    "  build:\n",
    "    runs-on: ubuntu-latest\n",
    "    steps:\n",
    "      - uses: actions/checkout@v3\n",
    "      - name: Azure Login\n",
    "        uses: azure/login@v2\n",
    "        with:\n",
    "          creds: ${{ secrets.AZURE_CREDENTIALS }}\n",
    "      - name: Build and Push\n",
    "        uses: azure/docker-login@v1\n",
    "        with:\n",
    "          login-server: myacr.azurecr.io\n",
    "          username: ${{ secrets.ACR_USERNAME }}\n",
    "          password: ${{ secrets.ACR_PASSWORD }}\n",
    "      - run: |\n",
    "          docker build -t myacr.azurecr.io/myflaskapp:latest .\n",
    "          docker push myacr.azurecr.io/myflaskapp:latest"
   ]
  },
  {
   "cell_type": "markdown",
   "id": "5811e085",
   "metadata": {},
   "source": [
    "## 3. Azure Pipelines로 CI/CD 구현\n",
    "Azure Pipelines는 다양한 플랫폼에서 빌드, 테스트, 배포를 자동화할 수 있는 Azure DevOps의 서비스입니다.\n",
    "\n",
    "### 예시 파이프라인 (azure-pipelines.yml)\n",
    "아래는 컨테이너 이미지를 빌드하고 ACR로 푸시하는 Azure Pipelines 예시입니다."
   ]
  },
  {
   "cell_type": "code",
   "execution_count": null,
   "id": "4662f1ab",
   "metadata": {
    "vscode": {
     "languageId": "yaml"
    }
   },
   "outputs": [],
   "source": [
    "# azure-pipelines.yml\n",
    "trigger:\n",
    "- main\n",
    "\n",
    "pool:\n",
    "  vmImage: 'ubuntu-latest'\n",
    "\n",
    "steps:\n",
    "- checkout: self\n",
    "- task: AzureCLI@2\n",
    "  inputs:\n",
    "    azureSubscription: 'AzureServiceConnection'\n",
    "    scriptType: 'bash'\n",
    "    scriptLocation: 'inlineScript'\n",
    "    inlineScript: |\n",
    "      az acr login --name myacr\n",
    "      docker build -t myacr.azurecr.io/myflaskapp:latest .\n",
    "      docker push myacr.azurecr.io/myflaskapp:latest"
   ]
  },
  {
   "cell_type": "markdown",
   "id": "e27bc614",
   "metadata": {},
   "source": [
    "## 4. ArgoCD를 활용한 GitOps 방식 배포\n",
    "ArgoCD는 쿠버네티스 환경에서 GitOps 방식을 실현하는 대표적인 오픈소스 도구입니다. Git 저장소의 선언적 매니페스트를 기준으로 애플리케이션을 자동으로 배포 및 동기화합니다.\n",
    "\n",
    "### GitOps란?\n",
    "- 모든 배포/운영 구성을 Git 저장소에 선언적으로 관리\n",
    "- 변경 사항이 감지되면 자동으로 쿠버네티스 클러스터에 적용\n",
    "\n",
    "### ArgoCD 설치 (AKS 클러스터)\n",
    "```bash\n",
    "kubectl create namespace argocd\n",
    "kubectl apply -n argocd -f https://raw.githubusercontent.com/argoproj/argo-cd/stable/manifests/install.yaml\n",
    "```\n",
    "\n",
    "### ArgoCD CLI 설치 (로컬)\n",
    "macOS 기준:\n",
    "```bash\n",
    "brew install argocd\n",
    "```\n",
    "\n",
    "### ArgoCD 서버 접속 및 초기 로그인\n",
    "```bash\n",
    "kubectl port-forward svc/argocd-server -n argocd 8080:443\n",
    "# 브라우저에서 https://localhost:8080 접속\n",
    "# 초기 admin 패스워드 확인\n",
    "kubectl get secret argocd-initial-admin-secret -n argocd -o jsonpath=\"{.data.password}\" | base64 -d\n",
    "```\n",
    "\n",
    "### 애플리케이션 등록 및 배포\n",
    "아래는 예시 manifest 저장소를 등록하고 배포하는 방법입니다.\n",
    "```bash\n",
    "argocd login localhost:8080\n",
    "argocd app create myapp \\\n",
    "  --repo https://github.com/your-org/your-repo.git \\\n",
    "  --path k8s-manifests \\\n",
    "  --dest-server https://kubernetes.default.svc \\\n",
    "  --dest-namespace default\n",
    "argocd app sync myapp\n",
    "```\n",
    "\n",
    "### 참고\n",
    "- 실제 배포 환경에서는 인증, RBAC, 외부 도메인 설정 등 추가 구성이 필요할 수 있습니다.\n",
    "- 자세한 내용은 [ArgoCD 공식 문서](https://argo-cd.readthedocs.io/)를 참고하세요."
   ]
  },
  {
   "cell_type": "markdown",
   "id": "7b814a6b",
   "metadata": {},
   "source": [
    "## 5. 정리\n",
    "\n",
    "이번 실습에서는 GitHub Actions, Azure Pipelines, ArgoCD를 활용해 컨테이너 이미지 빌드부터 ACR 푸시, AKS 배포, GitOps 기반 선언적 배포까지 CI/CD 자동화 전 과정을 실습했습니다. 각 도구의 자동화 파이프라인을 통해 효율적이고 일관된 배포 환경을 구축할 수 있습니다.\n",
    "\n",
    "이제 컨테이너 이미지를 자동으로 빌드하고, ACR로 푸시하며, AKS에 배포하는 전체 자동화 파이프라인과 GitOps 기반 배포까지 구축할 수 있습니다."
   ]
  }
 ],
 "metadata": {
  "language_info": {
   "name": "python"
  }
 },
 "nbformat": 4,
 "nbformat_minor": 5
}
