{
 "cells": [
  {
   "cell_type": "markdown",
   "id": "56f235f9",
   "metadata": {},
   "source": [
    "# AKS 클러스터 실습 가이드\n",
    "이 노트북에서는 Azure Kubernetes Service(AKS) 클러스터 생성, 쿠버네티스 및 AKS의 기본 개념, 컨테이너 이미지 배포, 실행, 확장, 모니터링 실습을 진행합니다."
   ]
  },
  {
   "cell_type": "markdown",
   "id": "e70a50e8",
   "metadata": {},
   "source": [
    "## 1. 쿠버네티스와 AKS 기본 개념 및 이점\n",
    "\n",
    "### 쿠버네티스란?\n",
    "쿠버네티스(Kubernetes)는 컨테이너화된 애플리케이션의 배포, 확장, 관리를 자동화하는 오픈소스 플랫폼입니다.\n",
    "\n",
    "#### 쿠버네티스의 주요 이점\n",
    "- **자동화된 배포 및 확장**\n",
    "- **자가 치유(Self-healing)**\n",
    "- **서비스 디스커버리 및 로드밸런싱**\n",
    "- **롤링 업데이트 및 롤백**\n",
    "\n",
    "### AKS란?\n",
    "AKS(Azure Kubernetes Service)는 Azure에서 제공하는 관리형 쿠버네티스 서비스로, 클러스터 관리의 복잡성을 줄여줍니다.\n",
    "\n",
    "#### AKS의 주요 이점\n",
    "- **간편한 클러스터 관리**\n",
    "- **Azure와의 통합**\n",
    "- **자동 업그레이드 및 패치**"
   ]
  },
  {
   "cell_type": "markdown",
   "id": "fe88223f",
   "metadata": {},
   "source": [
    "## 2. AKS 클러스터 생성 실습\n",
    "Azure CLI를 사용하여 AKS 클러스터를 생성합니다."
   ]
  },
  {
   "cell_type": "markdown",
   "id": "3fbff693",
   "metadata": {},
   "source": [
    "### 관리형 Prometheus 및 Grafana 활성화\n",
    "AKS 클러스터 생성 시 Azure Monitor의 관리형 Prometheus와 Grafana를 함께 활성화할 수 있습니다.\n",
    "아래 예시처럼 `--enable-addons` 옵션에 `monitoring`과 `azure-monitor-metrics`를 추가합니다."
   ]
  },
  {
   "cell_type": "code",
   "execution_count": null,
   "id": "54502549",
   "metadata": {
    "vscode": {
     "languageId": "bash"
    }
   },
   "outputs": [],
   "source": [
    "# 리소스 그룹 생성\n",
    "az group create --name aks-lab-rg --location koreacentral"
   ]
  },
  {
   "cell_type": "code",
   "execution_count": null,
   "id": "77be3d43",
   "metadata": {
    "vscode": {
     "languageId": "bash"
    }
   },
   "outputs": [],
   "source": [
    "# 관리형 Prometheus 및 Grafana가 활성화된 AKS 클러스터 생성 예시\n",
    "az aks create \\\n",
    "  --resource-group aks-lab-rg \\\n",
    "  --name aks-lab-cluster \\\n",
    "  --node-count 2 \\\n",
    "  --enable-addons monitoring,azure-monitor-metrics \\\n",
    "  --generate-ssh-keys"
   ]
  },
  {
   "cell_type": "code",
   "execution_count": null,
   "id": "4f065c81",
   "metadata": {
    "vscode": {
     "languageId": "bash"
    }
   },
   "outputs": [],
   "source": [
    "# 클러스터 인증 정보 가져오기\n",
    "az aks get-credentials --resource-group aks-lab-rg --name aks-lab-cluster"
   ]
  },
  {
   "cell_type": "markdown",
   "id": "8891e918",
   "metadata": {},
   "source": [
    "## 3. 컨테이너 이미지 AKS에 배포하기\n",
    "앞서 ACR에 푸시한 이미지를 AKS에 배포합니다."
   ]
  },
  {
   "cell_type": "code",
   "execution_count": null,
   "id": "c09a0fd8",
   "metadata": {
    "vscode": {
     "languageId": "yaml"
    }
   },
   "outputs": [],
   "source": [
    "# deployment.yaml 예시\n",
    "apiVersion: apps/v1\n",
    "kind: Deployment\n",
    "metadata:\n",
    "  name: app\n",
    "spec:\n",
    "  replicas: 2\n",
    "  selector:\n",
    "    matchLabels:\n",
    "      app: app\n",
    "  template:\n",
    "    metadata:\n",
    "      labels:\n",
    "        app: app\n",
    "    spec:\n",
    "      containers:\n",
    "      - name: app\n",
    "        image: myacr.azurecr.io/myapp:latest\n",
    "        ports:\n",
    "        - containerPort: 8080"
   ]
  },
  {
   "cell_type": "code",
   "execution_count": null,
   "id": "b2cd70d7",
   "metadata": {
    "vscode": {
     "languageId": "bash"
    }
   },
   "outputs": [],
   "source": [
    "# Deployment 생성\n",
    "kubectl apply -f deployment.yaml\n",
    "\n",
    "# Service 생성 (LoadBalancer)\n",
    "kubectl expose deployment app --type=LoadBalancer --port=80 --target-port=5000"
   ]
  },
  {
   "cell_type": "code",
   "execution_count": null,
   "id": "e5b1a177",
   "metadata": {
    "vscode": {
     "languageId": "bash"
    }
   },
   "outputs": [],
   "source": [
    "# 외부 IP 확인\n",
    "kubectl get service app"
   ]
  },
  {
   "cell_type": "markdown",
   "id": "71df4bef",
   "metadata": {},
   "source": [
    "## 4. 애플리케이션 확장\n",
    "replica 수를 조정하여 애플리케이션을 확장할 수 있습니다."
   ]
  },
  {
   "cell_type": "code",
   "execution_count": null,
   "id": "99dcbbe1",
   "metadata": {
    "vscode": {
     "languageId": "bash"
    }
   },
   "outputs": [],
   "source": [
    "# replica 수를 4로 확장\n",
    "kubectl scale deployment app --replicas=4"
   ]
  },
  {
   "cell_type": "markdown",
   "id": "b14ba363",
   "metadata": {},
   "source": [
    "### HPA(Horizontal Pod Autoscaler)로 오토스케일링 적용하기\n",
    "쿠버네티스 HPA(Horizontal Pod Autoscaler)를 활용하면 CPU 사용률 등 메트릭에 따라 파드 수를 자동으로 조정할 수 있습니다.\n",
    "\n",
    "1. **metrics-server 설치** (AKS는 기본 제공):\n",
    "   - AKS에서는 metrics-server가 기본적으로 설치되어 있으므로 별도 설치가 필요하지 않습니다.\n",
    "\n",
    "2. **HPA 생성 명령어 예시**\n",
    "```bash\n",
    "kubectl autoscale deployment app --cpu-percent=50 --min=2 --max=10\n",
    "```\n",
    "\n",
    "- 위 명령은 CPU 사용률이 50%를 초과하면 파드 수를 2~10개 사이에서 자동으로 조정합니다.\n",
    "\n",
    "3. **HPA 상태 확인**\n",
    "```bash\n",
    "kubectl get hpa\n",
    "```"
   ]
  },
  {
   "cell_type": "markdown",
   "id": "8e75d3f6",
   "metadata": {},
   "source": [
    "### HPA 오토스케일링 테스트 방법\n",
    "HPA가 정상적으로 동작하는지 확인하려면, 파드에 부하를 인위적으로 발생시켜 오토스케일링이 동작하는지 관찰할 수 있습니다.\n",
    "\n",
    "1. **stress 도구 설치** (app 파드에 설치):\n",
    "```bash\n",
    "kubectl exec -it <app-pod-name> -- apt-get update\n",
    "kubectl exec -it <app-pod-name> -- apt-get install -y stress\n",
    "```\n",
    "\n",
    "2. **CPU 부하 발생**:\n",
    "```bash\n",
    "kubectl exec -it <app-pod-name> -- stress --cpu 1 --timeout 300\n",
    "```\n",
    "\n",
    "3. **HPA 상태 모니터링**:\n",
    "```bash\n",
    "kubectl get hpa -w\n",
    "```\n",
    "\n",
    "- 위 과정을 통해 CPU 사용률이 증가하면 HPA가 자동으로 파드 수를 늘리는 것을 확인할 수 있습니다.\n",
    "\n",
    " > 참고: `<app-pod-name>`은 실제 app 파드 이름으로 대체하세요. 파드 이름은 `kubectl get pods` 명령으로 확인할 수 있습니다."
   ]
  },
  {
   "cell_type": "markdown",
   "id": "ed621260",
   "metadata": {},
   "source": [
    "## 5. 모니터링\n",
    "AKS는 Azure Monitor와 통합되어 클러스터 및 애플리케이션 상태를 모니터링할 수 있습니다.\n",
    "\n",
    "Azure Portal에서 AKS 리소스를 선택하고, 모니터링 탭에서 로그와 메트릭을 확인하세요."
   ]
  },
  {
   "cell_type": "markdown",
   "id": "a671bc22",
   "metadata": {},
   "source": [
    "### 관리형 Grafana 대시보드에서 Prometheus 표준 대시보드 조회하기\n",
    "AKS에서 관리형 Prometheus와 Grafana를 활성화했다면, Azure Portal에서 관리형 Grafana 인스턴스에 접근할 수 있습니다.\n",
    "\n",
    "1. **Azure Portal 접속**: [https://portal.azure.com](https://portal.azure.com) 에 로그인합니다.\n",
    "2. **Grafana 리소스 검색**: 상단 검색창에 `Grafana`를 입력하고, 생성된 Managed Grafana 리소스를 선택합니다.\n",
    "3. **Grafana 대시보드 열기**: 'Grafana 작업 영역'에서 'Grafana 대시보드' 버튼을 클릭하여 대시보드에 접속합니다.\n",
    "4. **Prometheus 데이터 소스 확인**: 좌측 메뉴에서 'Connections > Data sources'로 이동하여 Prometheus가 연결되어 있는지 확인합니다.\n",
    "5. **표준 대시보드 조회**: 좌측 메뉴에서 'Dashboards'를 클릭하고, 'Browse'에서 'Kubernetes / Compute Resources / Cluster', 'Kubernetes / Compute Resources / Namespace' 등 Prometheus 표준 대시보드를 선택해 클러스터/노드/파드/네임스페이스별 메트릭을 시각화할 수 있습니다.\n",
    "\n",
    "> 참고: 관리형 Grafana는 Azure AD 계정으로 SSO(싱글사인온)되어 별도의 로그인 없이 접근할 수 있습니다."
   ]
  },
  {
   "cell_type": "markdown",
   "id": "ae81f238",
   "metadata": {},
   "source": [
    "## 6. Node Auto Provisioning(노드 자동 프로비저닝) 공식 가이드 (2025년 기준)\n",
    "\n",
    "Node Auto Provisioning(NAP)은 AKS에서 워크로드 수요에 따라 다양한 VM 크기의 노드 풀을 자동으로 생성/확장/축소하는 기능입니다. 비용 최적화와 리소스 효율성을 위해 권장되는 Azure 기능입니다.\n",
    "\n",
    "\n",
    "### Node Auto Provisioning 활성화 준비 (Azure CLI)\n",
    "\n",
    "1. **aks-preview 확장 설치 및 최신화**\n",
    "\n",
    "```bash\n",
    "\n",
    "az extension add --name aks-preview || az extension update --name aks-preview\n",
    "\n",
    "```\n",
    "\n",
    "- aks-preview 확장이 이미 설치되어 있다면 update 명령이 실행됩니다.\n",
    "\n",
    "\n",
    "2. **NodeAutoProvisioningPreview Feature Flag 등록**\n",
    "\n",
    "```bash\n",
    "\n",
    "az feature register --namespace \"Microsoft.ContainerService\" --name \"NodeAutoProvisioningPreview\"\n",
    "\n",
    "az feature show --namespace \"Microsoft.ContainerService\" --name \"NodeAutoProvisioningPreview\"\n",
    "\n",
    "# 상태가 'Registered'가 될 때까지 기다린 후, 다음 명령 실행\n",
    "\n",
    "az provider register --namespace Microsoft.ContainerService\n",
    "\n",
    "```\n",
    "\n",
    "- Feature 등록 후 'Registered' 상태가 되어야 NAP 기능을 사용할 수 있습니다.\n",
    "\n",
    "\n",
    "### Node Auto Provisioning 활성화 (Azure CLI)\n",
    "\n",
    "3. **클러스터 생성 시 Node Auto Provisioning(NAP) 활성화**\n",
    "\n",
    "   - 아래와 같이 `--node-provisioning-mode Auto` 옵션을 사용하여 클러스터를 생성하면 NAP가 활성화됩니다.\n",
    "```bash\n",
    "az aks create \\\n",
    "  --name $CLUSTER_NAME \\\n",
    "  --resource-group $RESOURCE_GROUP_NAME \\\n",
    "  --node-provisioning-mode Auto \\\n",
    "  --network-plugin azure \\\n",
    "  --network-plugin-mode overlay \\\n",
    "  --network-dataplane cilium \\\n",
    "  --generate-ssh-keys\n",
    "```\n",
    "- `--node-provisioning-mode Auto` 옵션이 NAP를 활성화합니다.\n",
    "- 네트워크 플러그인, 데이터플레인 등은 공식 권장 옵션을 참고하세요.\n",
    "- 기존 클러스터에는 현재 CLI로 NAP를 활성화할 수 없으며, 클러스터 생성 시에만 지정 가능합니다.\n",
    "\n",
    "\n",
    "4. **NAP 동작 방식**\n",
    "- NAP가 활성화된 클러스터는 파드가 스케줄될 수 없는 상황에서 AKS가 자동으로 다양한 VM 크기의 노드 풀을 생성하여 워크로드를 수용합니다.\n",
    "- 생성된 노드 풀은 워크로드가 줄어들면 자동으로 축소(삭제)됩니다.\n",
    "- NAP는 Spot 노드 풀, GPU 노드 풀 등 다양한 VM 옵션을 자동으로 활용할 수 있습니다.\n",
    "\n",
    "\n",
    "### Node Auto Provisioning 테스트 방법\n",
    "1. **파드 수를 대폭 늘려 노드 부족 상황 유도**\n",
    "```bash\n",
    "kubectl scale deployment app --replicas=30\n",
    "```\n",
    "- Pending 파드가 발생하면, AKS가 자동으로 새로운 노드 풀을 생성하여 파드를 스케줄링합니다.\n",
    "\n",
    "2. **노드 풀 및 노드 상태 모니터링**\n",
    "```bash\n",
    "az aks nodepool list --resource-group $RESOURCE_GROUP_NAME --cluster-name $CLUSTER_NAME\n",
    "kubectl get nodes -w\n",
    "kubectl get pods -o wide\n",
    "```\n",
    "- 새로운 노드 풀이 생성되고, 노드가 추가되는 것을 확인할 수 있습니다.\n",
    "\n",
    "3. **테스트 후 파드 수 원복**\n",
    "```bash\n",
    "kubectl scale deployment app --replicas=2\n",
    "```\n",
    "- 워크로드 감소 시 불필요한 노드 풀/노드가 자동으로 축소(삭제)됩니다.\n",
    "\n",
    "#### 참고\n",
    "- Node Auto Provisioning은 다양한 VM 크기의 노드 풀을 자동으로 생성/삭제하며, 비용 최적화와 리소스 효율성을 높일 수 있습니다.\n",
    "- 자세한 내용 및 최신 옵션은 [Azure 공식 문서](https://learn.microsoft.com/en-us/azure/aks/node-autoprovision?tabs=azure-cli) 참고."
   ]
  },
  {
   "cell_type": "markdown",
   "id": "886e2211",
   "metadata": {},
   "source": [
    "## 7. 정리\n",
    "AKS 실습을 통해 클러스터 생성, 모니터링, 오토스케일링, Node Auto Provisioning 등 쿠버네티스 기반 애플리케이션의 배포와 운영 자동화 전 과정을 단계별로 실습했습니다. 각 단계에서 Azure의 관리형 서비스와 확장성, 자동화 기능을 직접 경험할 수 있습니다.생성·삭제되는 과정을 실습했습니다.\n",
    "\n",
    "> 다음 단계에서는 CI/CD 자동화 실습을 진행합니다."
   ]
  }
 ],
 "metadata": {
  "language_info": {
   "name": "python"
  }
 },
 "nbformat": 4,
 "nbformat_minor": 5
}
