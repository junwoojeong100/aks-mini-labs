{
 "cells": [
  {
   "cell_type": "markdown",
   "id": "2c7ac592",
   "metadata": {},
   "source": [
    "# 컨테이너 기본 개념 및 실습\n",
    "\n",
    "> **실습 환경**: 이 노트북은 Dev Container(GitHub Codespaces 또는 VS Code)에서 실행하도록 구성되어 있습니다. Docker, Azure CLI 등 필요한 도구가 자동으로 설치되어 있습니다.\n",
    "\n",
    "이 노트북에서는 컨테이너의 기본 개념, 컨테이너 이미지 빌드 및 실행, 그리고 Azure Container Registry(ACR)로 이미지를 푸시하는 방법을 실습합니다."
   ]
  },
  {
   "cell_type": "markdown",
   "id": "4dafcc80",
   "metadata": {},
   "source": [
    "## 1. 컨테이너란 무엇인가?\n",
    "컨테이너는 애플리케이션과 그 실행 환경을 하나의 패키지로 묶어 어디서나 일관되게 실행할 수 있도록 해주는 기술입니다.\n",
    "\n",
    "### 컨테이너의 주요 이점\n",
    "- **이식성**: 어디서나 동일하게 실행 가능\n",
    "- **경량화**: 가상머신보다 리소스 사용이 적음\n",
    "- **빠른 배포 및 확장**: 이미지 기반으로 빠르게 배포 및 확장 가능\n",
    "- **격리성**: 애플리케이션 간 충돌 방지"
   ]
  },
  {
   "cell_type": "markdown",
   "id": "a346b0cd",
   "metadata": {},
   "source": [
    "### VM vs 컨테이너 아키텍처 상세 비교\n",
    "\n",
    "가상머신(VM)과 컨테이너는 모두 애플리케이션을 격리하여 실행하는 기술이지만, 구조와 동작 방식에 차이가 있습니다.\n",
    "\n",
    "#### 1. VM 아키텍처\n",
    "\n",
    "아래는 VM 기반 아키텍처의 구조를 나타낸 다이어그램입니다.\n",
    "\n",
    "```\n",
    "[앱1]         [앱2]\n",
    "   |              |\n",
    "[게스트 OS1]  [게스트 OS2]\n",
    "   \\           /\n",
    "   [하이퍼바이저]\n",
    "       |\n",
    "   [호스트 OS]\n",
    "       |\n",
    "   [하드웨어]\n",
    "```\n",
    "\n",
    "- 각 VM은 별도의 게스트 OS를 포함하므로 무겁고, 리소스 사용이 많습니다.\n",
    "- 하이퍼바이저가 하드웨어와 게스트 OS 사이에서 가상화를 담당합니다.\n",
    "\n",
    "#### 2. 컨테이너 아키텍처\n",
    "\n",
    "컨테이너 기반 아키텍처의 구조는 다음과 같습니다.\n",
    "\n",
    "```\n",
    "   [앱1]      [앱2]\n",
    "     |           |\n",
    "[컨테이너1] [컨테이너2]\n",
    "   |         |\n",
    "[컨테이너 엔진]\n",
    "     |\n",
    "[호스트 OS]\n",
    "     |\n",
    "[하드웨어]\n",
    "```\n",
    "\n",
    "- 컨테이너는 호스트 OS의 커널을 공유하며, 별도의 OS가 필요하지 않아 경량화되어 있습니다.\n",
    "- 컨테이너 엔진(예: Docker)이 컨테이너의 실행과 관리를 담당합니다.\n",
    "\n",
    "#### 3. 비교 요약\n",
    "\n",
    "| 항목         | VM                                 | 컨테이너                        |\n",
    "|--------------|-------------------------------------|---------------------------------|\n",
    "| OS           | 각 VM마다 별도 게스트 OS 필요        | 호스트 OS 커널 공유             |\n",
    "| 리소스 사용  | 무거움, 오버헤드 큼                  | 경량, 오버헤드 적음             |\n",
    "| 시작 속도    | 느림                                | 빠름                            |\n",
    "| 이식성       | 제한적                               | 매우 높음                       |\n",
    "| 격리 수준    | 강력한 격리(보안성 높음)             | 프로세스 수준 격리              |"
   ]
  },
  {
   "cell_type": "markdown",
   "id": "aaebd85a",
   "metadata": {},
   "source": [
    "### 컨테이너 아키텍처\n",
    "컨테이너는 호스트 OS의 커널을 공유하며, 각 컨테이너는 독립적으로 실행됩니다. 대표적인 컨테이너 엔진으로는 Docker가 있습니다."
   ]
  },
  {
   "cell_type": "markdown",
   "id": "17121086",
   "metadata": {},
   "source": [
    "## 2. 실습 환경 설정\n",
    "\n",
    "> **참고:** 이 실습 가이드는 [Spring 공식 Docker 가이드](https://spring.io/guides/gs/spring-boot-docker)를 기반으로 작성되었습니다. 보다 자세한 내용이나 최신 정보를 원한다면 해당 링크를 참고해 주세요.\n",
    "\n",
    "> **Dev Container 환경**: GitHub Codespaces 또는 VS Code Dev Container를 사용하면 Python 가상환경, Azure CLI, Docker, kubectl 등 모든 도구가 자동으로 설치되고 설정됩니다.\n",
    "\n",
    "### 2.1 Python 가상환경 확인\n",
    "\n",
    "Dev Container가 시작될 때 Python 가상환경(`.venv`)과 Jupyter 커널이 자동으로 생성됩니다. 아래 셀을 실행하여 환경을 확인하세요."
   ]
  },
  {
   "cell_type": "markdown",
   "id": "74a4cf0a",
   "metadata": {},
   "source": [
    "#### Python 환경 자동 설정 완료\n",
    "\n",
    "Dev Container 시작 시 다음 작업이 자동으로 완료되었습니다:\n",
    "- ✅ Python 가상환경 생성 (`.venv`)\n",
    "- ✅ Jupyter 커널 등록 (`Python (.venv)`)\n",
    "- ✅ 필수 패키지 설치 (`requirements.txt`)\n",
    "- ✅ Spring Boot 프로젝트 빌드\n",
    "\n",
    "> **참고**: 커널이 `Python (.venv)`로 설정되어 있는지 확인하세요. VS Code 우측 상단에서 커널을 변경할 수 있습니다."
   ]
  },
  {
   "cell_type": "markdown",
   "id": "f7f29eff",
   "metadata": {},
   "source": [
    "#### 설치된 패키지 확인\n",
    "\n",
    "`requirements.txt`에 정의된 모든 패키지가 자동으로 설치되었습니다. 아래 셀을 실행하여 확인하세요."
   ]
  },
  {
   "cell_type": "code",
   "execution_count": null,
   "id": "8231dc55",
   "metadata": {},
   "outputs": [],
   "source": [
    "# 설치된 패키지 확인\n",
    "import subprocess\n",
    "import sys\n",
    "\n",
    "print(\"📦 설치된 주요 패키지:\")\n",
    "print(\"=\" * 50)\n",
    "\n",
    "packages = ['ipykernel', 'jupyter', 'notebook', 'azure-cli-core', 'azure-mgmt-containerregistry', 'azure-mgmt-containerservice', 'requests']\n",
    "\n",
    "for pkg in packages:\n",
    "    result = subprocess.run([sys.executable, '-m', 'pip', 'show', pkg], capture_output=True, text=True)\n",
    "    if result.returncode == 0:\n",
    "        for line in result.stdout.split('\\n'):\n",
    "            if line.startswith('Name:') or line.startswith('Version:'):\n",
    "                print(line)\n",
    "        print(\"-\" * 50)\n",
    "    else:\n",
    "        print(f\"⚠️  {pkg}: 설치되지 않음\")\n",
    "        print(\"-\" * 50)\n",
    "\n",
    "print(\"\\n✅ 모든 패키지가 정상적으로 설치되었습니다!\")"
   ]
  },
  {
   "cell_type": "markdown",
   "id": "56be9b49",
   "metadata": {},
   "source": [
    "> **참고**: Dev Container를 사용하면 가상환경이 자동으로 활성화됩니다. 새 터미널을 열어도 자동으로 `.venv`가 활성화됩니다.\n",
    "\n",
    "### 2.2 개발 도구 버전 확인\n",
    "\n",
    "Dev Container에 자동으로 설치된 개발 도구들의 버전을 확인합니다."
   ]
  },
  {
   "cell_type": "code",
   "execution_count": null,
   "id": "70a0a2ee",
   "metadata": {},
   "outputs": [],
   "source": [
    "%%bash\n",
    "# Maven 버전 확인\n",
    "mvn -v\n",
    "\n",
    "# Java 버전 확인\n",
    "java -version\n",
    "\n",
    "# Docker 버전 확인\n",
    "docker --version\n",
    "\n",
    "# Azure CLI 버전 확인\n",
    "az --version"
   ]
  },
  {
   "cell_type": "markdown",
   "id": "7b6862ee",
   "metadata": {},
   "source": [
    "## 3. Spring Boot 애플리케이션 준비\n",
    "\n",
    "이 섹션에서는 이미 준비된 Spring Boot 애플리케이션을 확인하고, 소스코드부터 컨테이너 이미지 빌드, 실행까지의 전체 과정을 단계별로 실습합니다.\n",
    "\n",
    "> 💡 **참고**: 이 레포지토리에는 이미 완성된 Spring Boot 프로젝트(`springboot-docker-demo`)가 포함되어 있습니다. 새로 생성할 필요 없이 기존 프로젝트를 사용하여 실습을 진행합니다.\n",
    "\n",
    "### 3.1 프로젝트 디렉터리 확인\n",
    "\n",
    "먼저 프로젝트 디렉터리가 존재하는지 확인합니다."
   ]
  },
  {
   "cell_type": "code",
   "execution_count": null,
   "id": "591b3f36",
   "metadata": {},
   "outputs": [],
   "source": [
    "%%bash\n",
    "# 프로젝트 디렉터리 확인\n",
    "if [ -d \"springboot-docker-demo\" ]; then\n",
    "    echo \"✓ springboot-docker-demo 디렉터리가 존재합니다.\"\n",
    "    ls -la springboot-docker-demo/\n",
    "else\n",
    "    echo \"✗ springboot-docker-demo 디렉터리를 찾을 수 없습니다.\"\n",
    "    exit 1\n",
    "fi"
   ]
  },
  {
   "cell_type": "markdown",
   "id": "b454ef6d",
   "metadata": {},
   "source": [
    "### 3.2 프로젝트 구조 확인\n",
    "\n",
    "Spring Boot 프로젝트의 디렉터리 구조를 확인합니다."
   ]
  },
  {
   "cell_type": "code",
   "execution_count": null,
   "id": "5c9538a2",
   "metadata": {},
   "outputs": [],
   "source": [
    "%%bash\n",
    "cd springboot-docker-demo\n",
    "echo \"=== 프로젝트 구조 ===\"\n",
    "echo \"\"\n",
    "echo \"📁 springboot-docker-demo/\"\n",
    "echo \"  ├── pom.xml\"\n",
    "echo \"  ├── Dockerfile\"\n",
    "echo \"  ├── src/\"\n",
    "echo \"  │   ├── main/\"\n",
    "echo \"  │   │   ├── java/com/example/springbootdocker/\"\n",
    "echo \"  │   │   │   └── App.java\"\n",
    "echo \"  │   │   └── resources/\"\n",
    "echo \"  │   └── test/\"\n",
    "echo \"  │       └── java/\"\n",
    "echo \"  └── target/\"\n",
    "echo \"      └── demo-0.0.1-SNAPSHOT.jar (빌드 후 생성)\"\n",
    "echo \"\"\n",
    "echo \"=== 주요 파일 확인 ===\"\n",
    "ls -lh pom.xml Dockerfile src/main/java/com/example/springbootdocker/App.java 2>/dev/null || echo \"일부 파일을 찾을 수 없습니다.\""
   ]
  },
  {
   "cell_type": "markdown",
   "id": "f4b32d1e",
   "metadata": {},
   "source": [
    "### 3.3 pom.xml 확인\n",
    "\n",
    "Maven 빌드 설정 파일인 `pom.xml`의 내용을 확인합니다. Spring Boot 3.5.6과 Java 21을 사용합니다."
   ]
  },
  {
   "cell_type": "code",
   "execution_count": null,
   "id": "321958bb",
   "metadata": {},
   "outputs": [],
   "source": [
    "%%bash\n",
    "cat springboot-docker-demo/pom.xml"
   ]
  },
  {
   "cell_type": "markdown",
   "id": "8bb05c33",
   "metadata": {},
   "source": [
    "### 3.4 Application.java 확인\n",
    "\n",
    "Spring Boot 애플리케이션의 메인 클래스를 확인합니다. 이 애플리케이션은 루트 경로(`/`)에서 간단한 메시지를 반환하는 REST API를 제공합니다."
   ]
  },
  {
   "cell_type": "code",
   "execution_count": null,
   "id": "a9092eb4",
   "metadata": {},
   "outputs": [],
   "source": [
    "%%bash\n",
    "cat springboot-docker-demo/src/main/java/com/example/springbootdocker/App.java"
   ]
  },
  {
   "cell_type": "markdown",
   "id": "04cf68b9",
   "metadata": {},
   "source": [
    "## 4. 컨테이너 이미지 빌드 및 테스트\n",
    "\n",
    "### 4.1 Dockerfile 작성\n",
    "\n",
    "프로젝트 루트 디렉터리(`springboot-docker-demo`)에 아래 내용으로 `Dockerfile`을 생성하세요.\n",
    "\n",
    "> **플랫폼 중립성**: 이 Dockerfile은 멀티 스테이지 빌드를 사용하며, `eclipse-temurin` 공식 이미지는 AMD64(Intel/AMD), ARM64(Apple Silicon) 등 여러 아키텍처를 자동으로 지원합니다. Docker가 실행 중인 플랫폼에 맞는 이미지를 자동으로 선택합니다."
   ]
  },
  {
   "cell_type": "markdown",
   "id": "5036faea",
   "metadata": {},
   "source": [
    "#### Dockerfile 내용 예시\n",
    "\n",
    "```dockerfile\n",
    "# 멀티 스테이지 빌드 - 빌드 단계\n",
    "FROM maven:3.9-eclipse-temurin-21 AS build\n",
    "WORKDIR /app\n",
    "COPY pom.xml .\n",
    "COPY src ./src\n",
    "RUN mvn clean package -Dmaven.test.skip=true\n",
    "\n",
    "# 멀티 스테이지 빌드 - 실행 단계\n",
    "FROM eclipse-temurin:21-jre\n",
    "\n",
    "# 비-루트 사용자 생성 (Debian 기반)\n",
    "RUN groupadd -r spring && useradd -r -g spring spring\n",
    "USER spring:spring\n",
    "\n",
    "WORKDIR /app\n",
    "COPY --from=build /app/target/*.jar app.jar\n",
    "\n",
    "EXPOSE 8080\n",
    "ENTRYPOINT [\"java\", \"-jar\", \"app.jar\"]\n",
    "```\n",
    "\n",
    "아래 셀을 실행하면 이 내용으로 Dockerfile이 자동 생성됩니다."
   ]
  },
  {
   "cell_type": "code",
   "execution_count": null,
   "id": "2b2d5343",
   "metadata": {},
   "outputs": [],
   "source": [
    "%%bash\n",
    "cat > springboot-docker-demo/Dockerfile << 'EOF'\n",
    "# 멀티 스테이지 빌드 - 빌드 단계\n",
    "FROM maven:3.9-eclipse-temurin-21 AS build\n",
    "WORKDIR /app\n",
    "COPY pom.xml .\n",
    "COPY src ./src\n",
    "RUN mvn clean package -Dmaven.test.skip=true\n",
    "\n",
    "# 멀티 스테이지 빌드 - 실행 단계\n",
    "FROM eclipse-temurin:21-jre\n",
    "\n",
    "# 비-루트 사용자 생성 (Debian 기반)\n",
    "RUN groupadd -r spring && useradd -r -g spring spring\n",
    "USER spring:spring\n",
    "\n",
    "WORKDIR /app\n",
    "COPY --from=build /app/target/*.jar app.jar\n",
    "\n",
    "EXPOSE 8080\n",
    "ENTRYPOINT [\"java\", \"-jar\", \"app.jar\"]\n",
    "EOF\n",
    "\n",
    "echo \"✅ Dockerfile 생성 완료\"\n",
    "cat springboot-docker-demo/Dockerfile"
   ]
  },
  {
   "cell_type": "markdown",
   "id": "6a21bd83",
   "metadata": {},
   "source": [
    "### 4.2 Docker 이미지 빌드\n",
    "\n",
    "GitHub Codespaces에는 Docker가 이미 설치되어 있습니다. 아래 명령어로 컨테이너 이미지를 빌드하세요.\n",
    "\n",
    "> **멀티 스테이지 빌드**: Dockerfile 내부에서 Maven 빌드가 자동으로 실행되므로, 별도로 JAR 파일을 빌드할 필요가 없습니다.\n",
    "\n",
    "> **중요**: AKS는 AMD64 아키텍처를 사용하므로, M1/M2 Mac에서도 `--platform linux/amd64` 옵션을 사용하여 호환되는 이미지를 빌드합니다."
   ]
  },
  {
   "cell_type": "code",
   "execution_count": null,
   "id": "ce1c724b",
   "metadata": {},
   "outputs": [],
   "source": [
    "%%bash\n",
    "cd springboot-docker-demo\n",
    "docker build --platform linux/amd64 -t myapp:latest ."
   ]
  },
  {
   "cell_type": "markdown",
   "id": "16605fc1",
   "metadata": {},
   "source": [
    "### 4.3 빌드된 이미지 확인\n",
    "\n",
    "빌드가 완료되면 이미지 목록을 확인할 수 있습니다."
   ]
  },
  {
   "cell_type": "code",
   "execution_count": null,
   "id": "ed906797",
   "metadata": {},
   "outputs": [],
   "source": [
    "!docker images"
   ]
  },
  {
   "cell_type": "markdown",
   "id": "48dc064d",
   "metadata": {},
   "source": [
    "## 5. 컨테이너 실행 실습\n",
    "\n",
    "빌드한 이미지를 기반으로 컨테이너를 실행하고 테스트합니다.\n",
    "\n",
    "> **GitHub Codespaces**: Codespaces에서는 포트 포워딩이 자동으로 설정되어, 실행 중인 컨테이너의 포트에 브라우저로 접근할 수 있습니다."
   ]
  },
  {
   "cell_type": "code",
   "execution_count": null,
   "id": "bb5bb803",
   "metadata": {},
   "outputs": [],
   "source": [
    "!docker ps"
   ]
  },
  {
   "cell_type": "code",
   "execution_count": null,
   "id": "f61e96d3",
   "metadata": {},
   "outputs": [],
   "source": [
    "!docker run -d -p 8080:8080 --name myapp myapp:latest"
   ]
  },
  {
   "cell_type": "markdown",
   "id": "74ec6f53",
   "metadata": {},
   "source": [
    "### 애플리케이션 테스트\n",
    "\n",
    "GitHub Codespaces에서는 포트 포워딩이 자동으로 설정됩니다. VS Code 하단의 \"PORTS\" 탭에서 8080 포트를 확인하고 브라우저로 접근할 수 있습니다.\n",
    "\n",
    "또는 아래 명령어로 터미널에서 테스트할 수 있습니다."
   ]
  },
  {
   "cell_type": "code",
   "execution_count": null,
   "id": "3345c2bc",
   "metadata": {},
   "outputs": [],
   "source": [
    "!curl http://localhost:8080"
   ]
  },
  {
   "cell_type": "markdown",
   "id": "4e6d0ae8",
   "metadata": {},
   "source": [
    "## 6. Azure Container Registry(ACR) 생성 및 이미지 푸시\n",
    "\n",
    "Azure에 컨테이너 이미지를 저장하려면 ACR을 사용합니다. 이 섹션에서는 ACR을 생성하고 빌드한 이미지를 푸시하는 전체 과정을 실습합니다.\n",
    "\n",
    "### 6.1 Azure CLI 로그인\n",
    "\n",
    "GitHub Codespaces에는 Azure CLI가 이미 설치되어 있습니다. 먼저 Azure에 로그인합니다."
   ]
  },
  {
   "cell_type": "code",
   "execution_count": null,
   "id": "bbdfcabf",
   "metadata": {},
   "outputs": [],
   "source": [
    "# 공통 설정 파일 import\n",
    "from config import *\n",
    "\n",
    "# 현재 설정 확인\n",
    "print_config()"
   ]
  },
  {
   "cell_type": "code",
   "execution_count": null,
   "id": "5c5c1f1c",
   "metadata": {},
   "outputs": [],
   "source": [
    "import subprocess\n",
    "import json\n",
    "\n",
    "# Azure 로그인 (항상 새로 로그인)\n",
    "print(\"Azure 로그인 중...\")\n",
    "subprocess.run([\"az\", \"login\"], check=True)\n",
    "print(\"✅ Azure 로그인 완료\\n\")\n",
    "\n",
    "# 모든 구독 목록 조회\n",
    "accounts_result = subprocess.run(\n",
    "    [\"az\", \"account\", \"list\"],\n",
    "    capture_output=True,\n",
    "    text=True,\n",
    "    check=True\n",
    ")\n",
    "\n",
    "accounts = json.loads(accounts_result.stdout)\n",
    "\n",
    "# 현재 기본 구독 표시\n",
    "current = next((acc for acc in accounts if acc.get('isDefault')), None)\n",
    "if current:\n",
    "    print(f\"\\n현재 기본 구독: {current['name']}\")\n",
    "    print(f\"\\n💡 다른 구독을 사용하려면 터미널에서 다음 명령을 실행하세요:\")\n",
    "    print(f\"   az account set --subscription \\\"<구독 이름 또는 ID>\\\"\")"
   ]
  },
  {
   "cell_type": "markdown",
   "id": "c82d93e9",
   "metadata": {},
   "source": [
    "### 6.2 Azure 리소스 그룹 생성\n",
    "\n",
    "ACR을 생성하기 전에 리소스 그룹을 만들어야 합니다. 리소스 그룹은 관련된 Azure 리소스를 논리적으로 묶어주는 컨테이너 역할을 합니다."
   ]
  },
  {
   "cell_type": "code",
   "execution_count": null,
   "id": "00e03653",
   "metadata": {},
   "outputs": [],
   "source": [
    "import subprocess\n",
    "\n",
    "# config.py의 변수 사용\n",
    "print(f\"📝 리소스 그룹 생성 설정:\")\n",
    "print(f\"   이름: {RESOURCE_GROUP}\")\n",
    "print(f\"   위치: {LOCATION}\")\n",
    "print()\n",
    "\n",
    "# 리소스 그룹 생성\n",
    "result = subprocess.run([\n",
    "    \"az\", \"group\", \"create\",\n",
    "    \"--name\", RESOURCE_GROUP,\n",
    "    \"--location\", LOCATION\n",
    "], capture_output=True, text=True)\n",
    "\n",
    "if result.returncode == 0:\n",
    "    print(\"✅ 리소스 그룹 생성 완료!\")\n",
    "    print()\n",
    "    # 생성된 리소스 그룹 정보 확인\n",
    "    subprocess.run([\n",
    "        \"az\", \"group\", \"show\",\n",
    "        \"--name\", RESOURCE_GROUP,\n",
    "        \"--query\", \"{Name:name, Location:location, ProvisioningState:properties.provisioningState}\",\n",
    "        \"--output\", \"table\"\n",
    "    ])\n",
    "else:\n",
    "    print(\"❌ 리소스 그룹 생성 실패\")\n",
    "    print(result.stderr)"
   ]
  },
  {
   "cell_type": "markdown",
   "id": "bf33fcfd",
   "metadata": {},
   "source": [
    "### 6.3 ACR(Azure Container Registry) 생성\n",
    "\n",
    "이제 컨테이너 이미지를 저장할 ACR을 생성합니다.\n",
    "\n",
    "> **참고**: ACR 이름은 전역적으로 고유해야 하며, 5-50자의 영숫자만 사용 가능합니다."
   ]
  },
  {
   "cell_type": "code",
   "execution_count": null,
   "id": "467de111",
   "metadata": {},
   "outputs": [],
   "source": [
    "import subprocess\n",
    "import time\n",
    "\n",
    "# ACR 이름 생성 (타임스탬프로 고유한 이름 생성)\n",
    "ACR_NAME = f\"myacr{int(time.time())}\"\n",
    "SKU = \"Basic\"\n",
    "\n",
    "print(f\"📝 ACR 생성 설정:\")\n",
    "print(f\"   리소스 그룹: {RESOURCE_GROUP}\")\n",
    "print(f\"   ACR 이름: {ACR_NAME}\")\n",
    "print(f\"   SKU: {SKU}\")\n",
    "print()\n",
    "\n",
    "# ACR 생성\n",
    "result = subprocess.run([\n",
    "    \"az\", \"acr\", \"create\",\n",
    "    \"--resource-group\", RESOURCE_GROUP,\n",
    "    \"--name\", ACR_NAME,\n",
    "    \"--sku\", SKU,\n",
    "    \"--admin-enabled\", \"true\"\n",
    "], capture_output=True, text=True)\n",
    "\n",
    "if result.returncode == 0:\n",
    "    print(\"✅ ACR 생성 완료!\")\n",
    "    print(f\"   ACR 이름: {ACR_NAME}\")\n",
    "    print(f\"   로그인 서버: {ACR_NAME}.azurecr.io\")\n",
    "    print()\n",
    "    print(\"=\" * 80)\n",
    "    print(\"⚠️  중요: 다음 단계를 수행하세요!\")\n",
    "    print(\"=\" * 80)\n",
    "    print(f\"1. config.py 파일을 열고 ACR_NAME 값을 업데이트하세요:\")\n",
    "    print(f\"   ACR_NAME = \\\"{ACR_NAME}\\\"\")\n",
    "    print()\n",
    "    print(\"2. 이렇게 하면 02, 03번 노트북에서 동일한 ACR을 자동으로 사용할 수 있습니다.\")\n",
    "    print(\"=\" * 80)\n",
    "else:\n",
    "    print(\"❌ ACR 생성 실패\")\n",
    "    print(result.stderr)"
   ]
  },
  {
   "cell_type": "markdown",
   "id": "cbb48036",
   "metadata": {},
   "source": [
    "### 6.4 ACR 정보 확인\n",
    "\n",
    "생성된 ACR의 상세 정보를 확인합니다."
   ]
  },
  {
   "cell_type": "code",
   "execution_count": null,
   "id": "e740fd16",
   "metadata": {},
   "outputs": [],
   "source": [
    "import subprocess\n",
    "\n",
    "# 위 셀에서 생성된 ACR_NAME 변수 사용\n",
    "result = subprocess.run([\n",
    "    \"az\", \"acr\", \"show\",\n",
    "    \"--name\", ACR_NAME,\n",
    "    \"--query\", \"{Name:name, LoginServer:loginServer, SKU:sku.name, Location:location}\",\n",
    "    \"--output\", \"table\"\n",
    "], capture_output=True, text=True)\n",
    "\n",
    "print(result.stdout)"
   ]
  },
  {
   "cell_type": "markdown",
   "id": "13a1eeba",
   "metadata": {},
   "source": [
    "### 6.5 ACR에 로그인\n",
    "\n",
    "Docker가 ACR에 이미지를 푸시할 수 있도록 ACR에 로그인합니다."
   ]
  },
  {
   "cell_type": "code",
   "execution_count": null,
   "id": "ccd01126",
   "metadata": {},
   "outputs": [],
   "source": [
    "import subprocess\n",
    "\n",
    "# ACR에 로그인\n",
    "result = subprocess.run([\n",
    "    \"az\", \"acr\", \"login\",\n",
    "    \"--name\", ACR_NAME\n",
    "], capture_output=True, text=True)\n",
    "\n",
    "print(result.stdout)\n",
    "print(\"\")\n",
    "print(\"✅ ACR 로그인 성공!\")"
   ]
  },
  {
   "cell_type": "markdown",
   "id": "2ef81281",
   "metadata": {},
   "source": [
    "### 6.6 이미지 태깅\n",
    "\n",
    "ACR로 이미지를 푸시하기 전에 ACR 주소로 태깅해야 합니다."
   ]
  },
  {
   "cell_type": "code",
   "execution_count": null,
   "id": "67793c68",
   "metadata": {},
   "outputs": [],
   "source": [
    "import subprocess\n",
    "\n",
    "# config.py의 헬퍼 함수 사용\n",
    "ACR_LOGIN_SERVER = get_acr_login_server(ACR_NAME)\n",
    "IMAGE_NAME = f\"{ACR_LOGIN_SERVER}/{APP_NAME}:{IMAGE_TAG}\"\n",
    "\n",
    "# 이미지 태깅\n",
    "result = subprocess.run([\n",
    "    \"docker\", \"tag\",\n",
    "    f\"{APP_NAME}:{IMAGE_TAG}\",\n",
    "    IMAGE_NAME\n",
    "], capture_output=True, text=True)\n",
    "\n",
    "print(result.stdout)\n",
    "print(f\"✅ 이미지 태깅 완료: {IMAGE_NAME}\")\n",
    "print()\n",
    "print(\"💡 사용된 config.py 변수:\")\n",
    "print(f\"   ACR_NAME: {ACR_NAME}\")\n",
    "print(f\"   APP_NAME: {APP_NAME}\")\n",
    "print(f\"   IMAGE_TAG: {IMAGE_TAG}\")"
   ]
  },
  {
   "cell_type": "markdown",
   "id": "36bfb1a5",
   "metadata": {},
   "source": [
    "### 6.7 이미지 푸시\n",
    "\n",
    "태깅된 이미지를 ACR로 푸시합니다."
   ]
  },
  {
   "cell_type": "code",
   "execution_count": null,
   "id": "77222a99",
   "metadata": {},
   "outputs": [],
   "source": [
    "import subprocess\n",
    "\n",
    "# config.py의 헬퍼 함수 사용하여 전체 이미지 이름 생성\n",
    "IMAGE_NAME = get_full_image_name(ACR_NAME, APP_NAME, IMAGE_TAG)\n",
    "\n",
    "# 이미지 푸시\n",
    "result = subprocess.run([\n",
    "    \"docker\", \"push\",\n",
    "    IMAGE_NAME\n",
    "], capture_output=True, text=True)\n",
    "\n",
    "print(result.stdout)\n",
    "print(\"\")\n",
    "print(f\"✅ 이미지 푸시 완료: {IMAGE_NAME}\")\n",
    "print()\n",
    "print(\"💡 다음 단계:\")\n",
    "print(f\"   1. config.py 파일의 ACR_NAME을 '{ACR_NAME}'로 업데이트하세요\")\n",
    "print(\"   2. 02번 노트북(02-aks-hands-on.ipynb)에서 이 이미지를 AKS에 배포할 수 있습니다\")"
   ]
  },
  {
   "cell_type": "markdown",
   "id": "fc34f7c6",
   "metadata": {},
   "source": [
    "### 6.8 ACR 이미지 목록 확인\n",
    "\n",
    "ACR에 푸시된 이미지를 확인합니다."
   ]
  },
  {
   "cell_type": "code",
   "execution_count": null,
   "id": "87dc8420",
   "metadata": {},
   "outputs": [],
   "source": [
    "import subprocess\n",
    "\n",
    "# ACR에 푸시된 이미지 목록 확인\n",
    "result = subprocess.run([\n",
    "    \"az\", \"acr\", \"repository\", \"list\",\n",
    "    \"--name\", ACR_NAME,\n",
    "    \"--output\", \"table\"\n",
    "], capture_output=True, text=True)\n",
    "\n",
    "print(result.stdout)\n",
    "print(\"\")\n",
    "print(\"✅ ACR에 저장된 이미지 목록 확인 완료!\")"
   ]
  },
  {
   "cell_type": "markdown",
   "id": "2a0acb0e",
   "metadata": {},
   "source": [
    "## 7. 정리\n",
    "\n",
    "이 노트북에서는 컨테이너의 기본 개념부터 실제 Spring Boot 애플리케이션을 컨테이너 이미지로 빌드하고, 실행 및 Azure Container Registry(ACR)로 푸시하는 전체 과정을 GitHub Codespaces 환경에서 실습했습니다.\n",
    "\n",
    "### 실습한 내용 요약\n",
    "- ✅ Python 가상환경 생성 및 패키지 설치\n",
    "- ✅ 컨테이너 개념 및 아키텍처 이해\n",
    "- ✅ Spring Boot 애플리케이션 작성\n",
    "- ✅ 플랫폼 중립적 Dockerfile 작성 및 이미지 빌드\n",
    "- ✅ 컨테이너 실행 및 테스트\n",
    "- ✅ Azure 리소스 그룹 및 ACR 생성\n",
    "- ✅ Azure Container Registry에 이미지 푸시\n",
    "\n",
    "\n",
    "> **다음 단계**: `02-aks-hands-on.ipynb`에서 ACR에 푸시한 이미지를 AKS(Azure Kubernetes Service) 클러스터에 배포하는 방법을 실습합니다."
   ]
  }
 ],
 "metadata": {
  "kernelspec": {
   "display_name": ".venv (3.12.12)",
   "language": "python",
   "name": "python3"
  },
  "language_info": {
   "codemirror_mode": {
    "name": "ipython",
    "version": 3
   },
   "file_extension": ".py",
   "mimetype": "text/x-python",
   "name": "python",
   "nbconvert_exporter": "python",
   "pygments_lexer": "ipython3",
   "version": "3.12.12"
  }
 },
 "nbformat": 4,
 "nbformat_minor": 5
}
