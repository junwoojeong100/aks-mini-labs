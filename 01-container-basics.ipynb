{
 "cells": [
  {
   "cell_type": "markdown",
   "id": "2c7ac592",
   "metadata": {},
   "source": [
    "# 컨테이너 기본 개념 및 실습\n",
    "\n",
    "> **실습 환경**: 이 노트북은 Dev Container(GitHub Codespaces 또는 VS Code)에서 실행하도록 구성되어 있습니다. Docker, Azure CLI 등 필요한 도구가 자동으로 설치되어 있습니다.\n",
    "\n",
    "이 노트북에서는 컨테이너의 기본 개념, 컨테이너 이미지 빌드 및 실행, 그리고 Azure Container Registry(ACR)로 이미지를 푸시하는 방법을 실습합니다."
   ]
  },
  {
   "cell_type": "markdown",
   "id": "4dafcc80",
   "metadata": {},
   "source": [
    "## 1. 컨테이너란 무엇인가?\n",
    "컨테이너는 애플리케이션과 그 실행 환경을 하나의 패키지로 묶어 어디서나 일관되게 실행할 수 있도록 해주는 기술입니다.\n",
    "\n",
    "### 컨테이너의 주요 이점\n",
    "- **이식성**: 어디서나 동일하게 실행 가능\n",
    "- **경량화**: 가상머신보다 리소스 사용이 적음\n",
    "- **빠른 배포 및 확장**: 이미지 기반으로 빠르게 배포 및 확장 가능\n",
    "- **격리성**: 애플리케이션 간 충돌 방지"
   ]
  },
  {
   "cell_type": "markdown",
   "id": "a346b0cd",
   "metadata": {},
   "source": [
    "### VM vs 컨테이너 아키텍처 상세 비교\n",
    "\n",
    "가상머신(VM)과 컨테이너는 모두 애플리케이션을 격리하여 실행하는 기술이지만, 구조와 동작 방식에 차이가 있습니다.\n",
    "\n",
    "#### 1. VM 아키텍처\n",
    "\n",
    "아래는 VM 기반 아키텍처의 구조를 나타낸 다이어그램입니다.\n",
    "\n",
    "```\n",
    "[앱1]         [앱2]\n",
    "   |              |\n",
    "[게스트 OS1]  [게스트 OS2]\n",
    "   \\           /\n",
    "   [하이퍼바이저]\n",
    "       |\n",
    "   [호스트 OS]\n",
    "       |\n",
    "   [하드웨어]\n",
    "```\n",
    "\n",
    "- 각 VM은 별도의 게스트 OS를 포함하므로 무겁고, 리소스 사용이 많습니다.\n",
    "- 하이퍼바이저가 하드웨어와 게스트 OS 사이에서 가상화를 담당합니다.\n",
    "\n",
    "#### 2. 컨테이너 아키텍처\n",
    "\n",
    "컨테이너 기반 아키텍처의 구조는 다음과 같습니다.\n",
    "\n",
    "```\n",
    "   [앱1]      [앱2]\n",
    "     |           |\n",
    "[컨테이너1] [컨테이너2]\n",
    "   |         |\n",
    "[컨테이너 엔진]\n",
    "     |\n",
    "[호스트 OS]\n",
    "     |\n",
    "[하드웨어]\n",
    "```\n",
    "\n",
    "- 컨테이너는 호스트 OS의 커널을 공유하며, 별도의 OS가 필요하지 않아 경량화되어 있습니다.\n",
    "- 컨테이너 엔진(예: Docker)이 컨테이너의 실행과 관리를 담당합니다.\n",
    "\n",
    "#### 3. 비교 요약\n",
    "\n",
    "| 항목         | VM                                 | 컨테이너                        |\n",
    "|--------------|-------------------------------------|---------------------------------|\n",
    "| OS           | 각 VM마다 별도 게스트 OS 필요        | 호스트 OS 커널 공유             |\n",
    "| 리소스 사용  | 무거움, 오버헤드 큼                  | 경량, 오버헤드 적음             |\n",
    "| 시작 속도    | 느림                                | 빠름                            |\n",
    "| 이식성       | 제한적                               | 매우 높음                       |\n",
    "| 격리 수준    | 강력한 격리(보안성 높음)             | 프로세스 수준 격리              |"
   ]
  },
  {
   "cell_type": "markdown",
   "id": "aaebd85a",
   "metadata": {},
   "source": [
    "### 컨테이너 아키텍처\n",
    "컨테이너는 호스트 OS의 커널을 공유하며, 각 컨테이너는 독립적으로 실행됩니다. 대표적인 컨테이너 엔진으로는 Docker가 있습니다."
   ]
  },
  {
   "cell_type": "markdown",
   "id": "17121086",
   "metadata": {},
   "source": [
    "## 2. 실습 환경 설정\n",
    "\n",
    "> **참고:** 이 실습 가이드는 [Spring 공식 Docker 가이드](https://spring.io/guides/gs/spring-boot-docker)를 기반으로 작성되었습니다. 보다 자세한 내용이나 최신 정보를 원한다면 해당 링크를 참고해 주세요.\n",
    "\n",
    "> **Dev Container 환경**: GitHub Codespaces 또는 VS Code Dev Container를 사용하면 Python 가상환경, Azure CLI, Docker, kubectl 등 모든 도구가 자동으로 설치되고 설정됩니다.\n",
    "\n",
    "### 2.1 Python 가상환경 확인\n",
    "\n",
    "Dev Container가 시작될 때 Python 가상환경(`.venv`)과 Jupyter 커널이 자동으로 생성됩니다. 아래 셀을 실행하여 환경을 확인하세요."
   ]
  },
  {
   "cell_type": "markdown",
   "id": "74a4cf0a",
   "metadata": {},
   "source": [
    "#### Python 환경 자동 설정 완료\n",
    "\n",
    "Dev Container 시작 시 다음 작업이 자동으로 완료되었습니다:\n",
    "- ✅ Python 가상환경 생성 (`.venv`)\n",
    "- ✅ Jupyter 커널 등록 (`Python (.venv)`)\n",
    "- ✅ 필수 패키지 설치 (`requirements.txt`)\n",
    "- ✅ Spring Boot 프로젝트 빌드\n",
    "\n",
    "> **참고**: 커널이 `Python (.venv)`로 설정되어 있는지 확인하세요. VS Code 우측 상단에서 커널을 변경할 수 있습니다."
   ]
  },
  {
   "cell_type": "markdown",
   "id": "f7f29eff",
   "metadata": {},
   "source": [
    "#### 설치된 패키지 확인\n",
    "\n",
    "`requirements.txt`에 정의된 모든 패키지가 자동으로 설치되었습니다. 아래 셀을 실행하여 확인하세요."
   ]
  },
  {
   "cell_type": "code",
   "execution_count": 6,
   "id": "8231dc55",
   "metadata": {},
   "outputs": [
    {
     "name": "stdout",
     "output_type": "stream",
     "text": [
      "📦 설치된 주요 패키지:\n",
      "==================================================\n",
      "Name: ipykernel\n",
      "Version: 6.30.1\n",
      "--------------------------------------------------\n",
      "⚠️  jupyter: 설치되지 않음\n",
      "--------------------------------------------------\n",
      "⚠️  notebook: 설치되지 않음\n",
      "--------------------------------------------------\n",
      "Name: azure-cli-core\n",
      "Version: 2.77.0\n",
      "--------------------------------------------------\n",
      "Name: azure-mgmt-containerregistry\n",
      "Version: 14.1.0b1\n",
      "--------------------------------------------------\n",
      "Name: azure-mgmt-containerservice\n",
      "Version: 39.1.0\n",
      "--------------------------------------------------\n",
      "Name: requests\n",
      "Version: 2.32.5\n",
      "--------------------------------------------------\n",
      "\n",
      "✅ 모든 패키지가 정상적으로 설치되었습니다!\n"
     ]
    }
   ],
   "source": [
    "# 설치된 패키지 확인\n",
    "import subprocess\n",
    "import sys\n",
    "\n",
    "print(\"📦 설치된 주요 패키지:\")\n",
    "print(\"=\" * 50)\n",
    "\n",
    "packages = ['ipykernel', 'jupyter', 'notebook', 'azure-cli-core', 'azure-mgmt-containerregistry', 'azure-mgmt-containerservice', 'requests']\n",
    "\n",
    "for pkg in packages:\n",
    "    result = subprocess.run([sys.executable, '-m', 'pip', 'show', pkg], capture_output=True, text=True)\n",
    "    if result.returncode == 0:\n",
    "        for line in result.stdout.split('\\n'):\n",
    "            if line.startswith('Name:') or line.startswith('Version:'):\n",
    "                print(line)\n",
    "        print(\"-\" * 50)\n",
    "    else:\n",
    "        print(f\"⚠️  {pkg}: 설치되지 않음\")\n",
    "        print(\"-\" * 50)\n",
    "\n",
    "print(\"\\n✅ 모든 패키지가 정상적으로 설치되었습니다!\")"
   ]
  },
  {
   "cell_type": "markdown",
   "id": "56be9b49",
   "metadata": {},
   "source": [
    "> **참고**: Dev Container를 사용하면 가상환경이 자동으로 활성화됩니다. 새 터미널을 열어도 자동으로 `.venv`가 활성화됩니다.\n",
    "\n",
    "### 2.2 개발 도구 버전 확인\n",
    "\n",
    "Dev Container에 자동으로 설치된 개발 도구들의 버전을 확인합니다."
   ]
  },
  {
   "cell_type": "code",
   "execution_count": 7,
   "id": "70a0a2ee",
   "metadata": {},
   "outputs": [
    {
     "name": "stdout",
     "output_type": "stream",
     "text": [
      "Apache Maven 3.9.9 (8e8579a9e76f7d015ee5ec7bfcdc97d260186937)\n",
      "Maven home: /opt/homebrew/Cellar/maven/3.9.9/libexec\n",
      "Java version: 23.0.2, vendor: Homebrew, runtime: /opt/homebrew/Cellar/openjdk/23.0.2/libexec/openjdk.jdk/Contents/Home\n",
      "Default locale: en_KR, platform encoding: UTF-8\n",
      "OS name: \"mac os x\", version: \"26.0.1\", arch: \"aarch64\", family: \"mac\"\n"
     ]
    },
    {
     "name": "stderr",
     "output_type": "stream",
     "text": [
      "openjdk version \"21.0.7\" 2025-04-15 LTS\n",
      "OpenJDK Runtime Environment Temurin-21.0.7+6 (build 21.0.7+6-LTS)\n",
      "OpenJDK 64-Bit Server VM Temurin-21.0.7+6 (build 21.0.7+6-LTS, mixed mode, sharing)\n"
     ]
    },
    {
     "name": "stdout",
     "output_type": "stream",
     "text": [
      "Docker version 28.0.4, build b8034c0\n",
      "azure-cli                         2.77.0 *\n",
      "\n",
      "core                              2.77.0 *\n",
      "telemetry                          1.1.0\n",
      "\n",
      "Extensions:\n",
      "ai-examples                        0.2.5\n",
      "aks-preview                    18.0.0b44\n",
      "amg                                2.8.1\n",
      "application-insights               1.2.3\n",
      "azure-firewall                     1.2.3\n",
      "containerapp                     1.2.0b3\n",
      "ml                                2.39.0\n",
      "\n",
      "Dependencies:\n",
      "msal                            1.34.0b1\n",
      "azure-mgmt-resource               23.3.0\n",
      "\n",
      "Python location '/Users/junwoojeong/GitHub/aks-mini-labs/.venv/bin/python'\n",
      "Config directory '/Users/junwoojeong/.azure'\n",
      "Extensions directory '/Users/junwoojeong/.azure/cliextensions'\n",
      "\n",
      "Python (Darwin) 3.12.12 (main, Oct  9 2025, 11:07:00) [Clang 17.0.0 (clang-1700.3.19.1)]\n",
      "\n",
      "Legal docs and information: aka.ms/AzureCliLegal\n",
      "\n",
      "\n"
     ]
    },
    {
     "name": "stderr",
     "output_type": "stream",
     "text": [
      "WARNING: You have 2 update(s) available. Consider updating your CLI installation with 'az upgrade'\n"
     ]
    }
   ],
   "source": [
    "%%bash\n",
    "# Maven 버전 확인\n",
    "mvn -v\n",
    "\n",
    "# Java 버전 확인\n",
    "java -version\n",
    "\n",
    "# Docker 버전 확인\n",
    "docker --version\n",
    "\n",
    "# Azure CLI 버전 확인\n",
    "az --version"
   ]
  },
  {
   "cell_type": "markdown",
   "id": "7b6862ee",
   "metadata": {},
   "source": [
    "## 3. Spring Boot 애플리케이션 준비\n",
    "\n",
    "이 섹션에서는 이미 준비된 Spring Boot 애플리케이션을 확인하고, 소스코드부터 컨테이너 이미지 빌드, 실행까지의 전체 과정을 단계별로 실습합니다.\n",
    "\n",
    "> 💡 **참고**: 이 레포지토리에는 이미 완성된 Spring Boot 프로젝트(`springboot-docker-demo`)가 포함되어 있습니다. 새로 생성할 필요 없이 기존 프로젝트를 사용하여 실습을 진행합니다.\n",
    "\n",
    "### 3.1 프로젝트 디렉터리 확인\n",
    "\n",
    "먼저 프로젝트 디렉터리가 존재하는지 확인합니다."
   ]
  },
  {
   "cell_type": "code",
   "execution_count": 8,
   "id": "591b3f36",
   "metadata": {},
   "outputs": [
    {
     "name": "stdout",
     "output_type": "stream",
     "text": [
      "✓ springboot-docker-demo 디렉터리가 존재합니다.\n",
      "total 16\n",
      "drwxr-xr-x@  6 junwoojeong  staff   192 Oct 11 13:43 \u001b[34m.\u001b[m\u001b[m\n",
      "drwxr-xr-x  15 junwoojeong  staff   480 Oct 13 21:03 \u001b[34m..\u001b[m\u001b[m\n",
      "-rw-r--r--@  1 junwoojeong  staff   480 Oct 12 19:28 Dockerfile\n",
      "-rw-r--r--@  1 junwoojeong  staff  1377 Oct 12 19:32 pom.xml\n",
      "drwxr-xr-x@  4 junwoojeong  staff   128 Oct 11 13:28 \u001b[34msrc\u001b[m\u001b[m\n",
      "drwxr-xr-x@ 11 junwoojeong  staff   352 Oct 12 20:36 \u001b[34mtarget\u001b[m\u001b[m\n"
     ]
    }
   ],
   "source": [
    "%%bash\n",
    "# 프로젝트 디렉터리 확인\n",
    "if [ -d \"springboot-docker-demo\" ]; then\n",
    "    echo \"✓ springboot-docker-demo 디렉터리가 존재합니다.\"\n",
    "    ls -la springboot-docker-demo/\n",
    "else\n",
    "    echo \"✗ springboot-docker-demo 디렉터리를 찾을 수 없습니다.\"\n",
    "    exit 1\n",
    "fi"
   ]
  },
  {
   "cell_type": "markdown",
   "id": "b454ef6d",
   "metadata": {},
   "source": [
    "### 3.2 프로젝트 구조 확인\n",
    "\n",
    "Spring Boot 프로젝트의 디렉터리 구조를 확인합니다."
   ]
  },
  {
   "cell_type": "code",
   "execution_count": 9,
   "id": "5c9538a2",
   "metadata": {},
   "outputs": [
    {
     "name": "stdout",
     "output_type": "stream",
     "text": [
      "=== 프로젝트 구조 ===\n",
      "\n",
      "📁 springboot-docker-demo/\n",
      "  ├── pom.xml\n",
      "  ├── Dockerfile\n",
      "  ├── src/\n",
      "  │   ├── main/\n",
      "  │   │   ├── java/com/example/springbootdocker/\n",
      "  │   │   │   └── App.java\n",
      "  │   │   └── resources/\n",
      "  │   └── test/\n",
      "  │       └── java/\n",
      "  └── target/\n",
      "      └── demo-0.0.1-SNAPSHOT.jar (빌드 후 생성)\n",
      "\n",
      "=== 주요 파일 확인 ===\n",
      "\n",
      "  ├── src/\n",
      "  │   ├── main/\n",
      "  │   │   ├── java/com/example/springbootdocker/\n",
      "  │   │   │   └── App.java\n",
      "  │   │   └── resources/\n",
      "  │   └── test/\n",
      "  │       └── java/\n",
      "  └── target/\n",
      "      └── demo-0.0.1-SNAPSHOT.jar (빌드 후 생성)\n",
      "\n",
      "=== 주요 파일 확인 ===\n",
      "-rw-r--r--@ 1 junwoojeong  staff   480B Oct 12 19:28 Dockerfile\n",
      "-rw-r--r--@ 1 junwoojeong  staff   1.3K Oct 12 19:32 pom.xml\n",
      "-rw-r--r--@ 1 junwoojeong  staff   555B Oct 11 13:31 src/main/java/com/example/springbootdocker/App.java\n"
     ]
    }
   ],
   "source": [
    "%%bash\n",
    "cd springboot-docker-demo\n",
    "echo \"=== 프로젝트 구조 ===\"\n",
    "echo \"\"\n",
    "echo \"📁 springboot-docker-demo/\"\n",
    "echo \"  ├── pom.xml\"\n",
    "echo \"  ├── Dockerfile\"\n",
    "echo \"  ├── src/\"\n",
    "echo \"  │   ├── main/\"\n",
    "echo \"  │   │   ├── java/com/example/springbootdocker/\"\n",
    "echo \"  │   │   │   └── App.java\"\n",
    "echo \"  │   │   └── resources/\"\n",
    "echo \"  │   └── test/\"\n",
    "echo \"  │       └── java/\"\n",
    "echo \"  └── target/\"\n",
    "echo \"      └── demo-0.0.1-SNAPSHOT.jar (빌드 후 생성)\"\n",
    "echo \"\"\n",
    "echo \"=== 주요 파일 확인 ===\"\n",
    "ls -lh pom.xml Dockerfile src/main/java/com/example/springbootdocker/App.java 2>/dev/null || echo \"일부 파일을 찾을 수 없습니다.\""
   ]
  },
  {
   "cell_type": "markdown",
   "id": "f4b32d1e",
   "metadata": {},
   "source": [
    "### 3.3 pom.xml 확인\n",
    "\n",
    "Maven 빌드 설정 파일인 `pom.xml`의 내용을 확인합니다. Spring Boot 3.5.6과 Java 21을 사용합니다."
   ]
  },
  {
   "cell_type": "code",
   "execution_count": 10,
   "id": "321958bb",
   "metadata": {},
   "outputs": [
    {
     "name": "stdout",
     "output_type": "stream",
     "text": [
      "<project xmlns=\"http://maven.apache.org/POM/4.0.0\" xmlns:xsi=\"http://www.w3.org/2001/XMLSchema-instance\"\n",
      "         xsi:schemaLocation=\"http://maven.apache.org/POM/4.0.0 http://maven.apache.org/xsd/maven-4.0.0.xsd\">\n",
      "    <modelVersion>4.0.0</modelVersion>\n",
      "    <groupId>com.example</groupId>\n",
      "    <artifactId>demo</artifactId>\n",
      "    <version>0.0.1-SNAPSHOT</version>\n",
      "    <packaging>jar</packaging>\n",
      "    <name>demo</name>\n",
      "    <description>Demo project for Spring Boot</description>\n",
      "    <parent>\n",
      "        <groupId>org.springframework.boot</groupId>\n",
      "        <artifactId>spring-boot-starter-parent</artifactId>\n",
      "        <version>3.5.6</version>\n",
      "        <relativePath/>\n",
      "    </parent>\n",
      "    <properties>\n",
      "        <java.version>21</java.version>\n",
      "    </properties>\n",
      "    <dependencies>\n",
      "        <dependency>\n",
      "            <groupId>org.springframework.boot</groupId>\n",
      "            <artifactId>spring-boot-starter-web</artifactId>\n",
      "        </dependency>\n",
      "        <dependency>\n",
      "            <groupId>org.springframework.boot</groupId>\n",
      "            <artifactId>spring-boot-starter-test</artifactId>\n",
      "            <scope>test</scope>\n",
      "        </dependency>\n",
      "    </dependencies>\n",
      "    <build>\n",
      "        <plugins>\n",
      "            <plugin>\n",
      "                <groupId>org.springframework.boot</groupId>\n",
      "                <artifactId>spring-boot-maven-plugin</artifactId>\n",
      "            </plugin>\n",
      "        </plugins>\n",
      "    </build>\n",
      "</project>nce\"\n",
      "         xsi:schemaLocation=\"http://maven.apache.org/POM/4.0.0 http://maven.apache.org/xsd/maven-4.0.0.xsd\">\n",
      "    <modelVersion>4.0.0</modelVersion>\n",
      "    <groupId>com.example</groupId>\n",
      "    <artifactId>demo</artifactId>\n",
      "    <version>0.0.1-SNAPSHOT</version>\n",
      "    <packaging>jar</packaging>\n",
      "    <name>demo</name>\n",
      "    <description>Demo project for Spring Boot</description>\n",
      "    <parent>\n",
      "        <groupId>org.springframework.boot</groupId>\n",
      "        <artifactId>spring-boot-starter-parent</artifactId>\n",
      "        <version>3.5.6</version>\n",
      "        <relativePath/>\n",
      "    </parent>\n",
      "    <properties>\n",
      "        <java.version>21</java.version>\n",
      "    </properties>\n",
      "    <dependencies>\n",
      "        <dependency>\n",
      "            <groupId>org.springframework.boot</groupId>\n",
      "            <artifactId>spring-boot-starter-web</artifactId>\n",
      "        </dependency>\n",
      "        <dependency>\n",
      "            <groupId>org.springframework.boot</groupId>\n",
      "            <artifactId>spring-boot-starter-test</artifactId>\n",
      "            <scope>test</scope>\n",
      "        </dependency>\n",
      "    </dependencies>\n",
      "    <build>\n",
      "        <plugins>\n",
      "            <plugin>\n",
      "                <groupId>org.springframework.boot</groupId>\n",
      "                <artifactId>spring-boot-maven-plugin</artifactId>\n",
      "            </plugin>\n",
      "        </plugins>\n",
      "    </build>\n",
      "</project>"
     ]
    }
   ],
   "source": [
    "%%bash\n",
    "cat springboot-docker-demo/pom.xml"
   ]
  },
  {
   "cell_type": "markdown",
   "id": "8bb05c33",
   "metadata": {},
   "source": [
    "### 3.4 Application.java 확인\n",
    "\n",
    "Spring Boot 애플리케이션의 메인 클래스를 확인합니다. 이 애플리케이션은 루트 경로(`/`)에서 간단한 메시지를 반환하는 REST API를 제공합니다."
   ]
  },
  {
   "cell_type": "code",
   "execution_count": 11,
   "id": "a9092eb4",
   "metadata": {},
   "outputs": [
    {
     "name": "stdout",
     "output_type": "stream",
     "text": [
      "package com.example.springbootdocker;\n",
      "\n",
      "import org.springframework.boot.SpringApplication;\n",
      "import org.springframework.boot.autoconfigure.SpringBootApplication;\n",
      "import org.springframework.web.bind.annotation.GetMapping;\n",
      "import org.springframework.web.bind.annotation.RestController;\n",
      "\n",
      "@SpringBootApplication\n",
      "@RestController\n",
      "public class App {\n",
      "    @GetMapping(\"/\")\n",
      "    public String home() {\n",
      "        return \"Hello Docker World from GitHub Codespaces!\";\n",
      "    }\n",
      "    public static void main(String[] args) {\n",
      "        SpringApplication.run(App.class, args);\n",
      "    }\n",
      "}.springframework.boot.autoconfigure.SpringBootApplication;\n",
      "import org.springframework.web.bind.annotation.GetMapping;\n",
      "import org.springframework.web.bind.annotation.RestController;\n",
      "\n",
      "@SpringBootApplication\n",
      "@RestController\n",
      "public class App {\n",
      "    @GetMapping(\"/\")\n",
      "    public String home() {\n",
      "        return \"Hello Docker World from GitHub Codespaces!\";\n",
      "    }\n",
      "    public static void main(String[] args) {\n",
      "        SpringApplication.run(App.class, args);\n",
      "    }\n",
      "}"
     ]
    }
   ],
   "source": [
    "%%bash\n",
    "cat springboot-docker-demo/src/main/java/com/example/springbootdocker/App.java"
   ]
  },
  {
   "cell_type": "markdown",
   "id": "04cf68b9",
   "metadata": {},
   "source": [
    "## 4. 컨테이너 이미지 빌드 및 테스트\n",
    "\n",
    "### 4.1 Dockerfile 작성\n",
    "\n",
    "프로젝트 루트 디렉터리(`springboot-docker-demo`)에 아래 내용으로 `Dockerfile`을 생성하세요.\n",
    "\n",
    "> **플랫폼 중립성**: 이 Dockerfile은 멀티 스테이지 빌드를 사용하며, `eclipse-temurin` 공식 이미지는 AMD64(Intel/AMD), ARM64(Apple Silicon) 등 여러 아키텍처를 자동으로 지원합니다. Docker가 실행 중인 플랫폼에 맞는 이미지를 자동으로 선택합니다."
   ]
  },
  {
   "cell_type": "markdown",
   "id": "5036faea",
   "metadata": {},
   "source": [
    "#### Dockerfile 내용 예시\n",
    "\n",
    "```dockerfile\n",
    "# 멀티 스테이지 빌드 - 빌드 단계\n",
    "FROM maven:3.9-eclipse-temurin-21 AS build\n",
    "WORKDIR /app\n",
    "COPY pom.xml .\n",
    "COPY src ./src\n",
    "RUN mvn clean package -Dmaven.test.skip=true\n",
    "\n",
    "# 멀티 스테이지 빌드 - 실행 단계\n",
    "FROM eclipse-temurin:21-jre\n",
    "\n",
    "# 비-루트 사용자 생성 (Debian 기반)\n",
    "RUN groupadd -r spring && useradd -r -g spring spring\n",
    "USER spring:spring\n",
    "\n",
    "WORKDIR /app\n",
    "COPY --from=build /app/target/*.jar app.jar\n",
    "\n",
    "EXPOSE 8080\n",
    "ENTRYPOINT [\"java\", \"-jar\", \"app.jar\"]\n",
    "```\n",
    "\n",
    "아래 셀을 실행하면 이 내용으로 Dockerfile이 자동 생성됩니다."
   ]
  },
  {
   "cell_type": "code",
   "execution_count": 12,
   "id": "2b2d5343",
   "metadata": {},
   "outputs": [
    {
     "name": "stdout",
     "output_type": "stream",
     "text": [
      "✅ Dockerfile 생성 완료\n",
      "# 멀티 스테이지 빌드 - 빌드 단계\n",
      "FROM maven:3.9-eclipse-temurin-21 AS build\n",
      "WORKDIR /app\n",
      "COPY pom.xml .\n",
      "COPY src ./src\n",
      "RUN mvn clean package -Dmaven.test.skip=true\n",
      "\n",
      "# 멀티 스테이지 빌드 - 실행 단계\n",
      "FROM eclipse-temurin:21-jre\n",
      "\n",
      "# 비-루트 사용자 생성 (Debian 기반)\n",
      "RUN groupadd -r spring && useradd -r -g spring spring\n",
      "USER spring:spring\n",
      "\n",
      "WORKDIR /app\n",
      "COPY --from=build /app/target/*.jar app.jar\n",
      "\n",
      "EXPOSE 8080\n",
      "ENTRYPOINT [\"java\", \"-jar\", \"app.jar\"]\n",
      "# 멀티 스테이지 빌드 - 빌드 단계\n",
      "FROM maven:3.9-eclipse-temurin-21 AS build\n",
      "WORKDIR /app\n",
      "COPY pom.xml .\n",
      "COPY src ./src\n",
      "RUN mvn clean package -Dmaven.test.skip=true\n",
      "\n",
      "# 멀티 스테이지 빌드 - 실행 단계\n",
      "FROM eclipse-temurin:21-jre\n",
      "\n",
      "# 비-루트 사용자 생성 (Debian 기반)\n",
      "RUN groupadd -r spring && useradd -r -g spring spring\n",
      "USER spring:spring\n",
      "\n",
      "WORKDIR /app\n",
      "COPY --from=build /app/target/*.jar app.jar\n",
      "\n",
      "EXPOSE 8080\n",
      "ENTRYPOINT [\"java\", \"-jar\", \"app.jar\"]\n"
     ]
    }
   ],
   "source": [
    "%%bash\n",
    "cat > springboot-docker-demo/Dockerfile << 'EOF'\n",
    "# 멀티 스테이지 빌드 - 빌드 단계\n",
    "FROM maven:3.9-eclipse-temurin-21 AS build\n",
    "WORKDIR /app\n",
    "COPY pom.xml .\n",
    "COPY src ./src\n",
    "RUN mvn clean package -Dmaven.test.skip=true\n",
    "\n",
    "# 멀티 스테이지 빌드 - 실행 단계\n",
    "FROM eclipse-temurin:21-jre\n",
    "\n",
    "# 비-루트 사용자 생성 (Debian 기반)\n",
    "RUN groupadd -r spring && useradd -r -g spring spring\n",
    "USER spring:spring\n",
    "\n",
    "WORKDIR /app\n",
    "COPY --from=build /app/target/*.jar app.jar\n",
    "\n",
    "EXPOSE 8080\n",
    "ENTRYPOINT [\"java\", \"-jar\", \"app.jar\"]\n",
    "EOF\n",
    "\n",
    "echo \"✅ Dockerfile 생성 완료\"\n",
    "cat springboot-docker-demo/Dockerfile"
   ]
  },
  {
   "cell_type": "markdown",
   "id": "6a21bd83",
   "metadata": {},
   "source": [
    "### 4.2 Docker 이미지 빌드\n",
    "\n",
    "**로컬 테스트용 빌드 (AMD64)**\n",
    "\n",
    "> 💡 **플랫폼 선택 가이드**\n",
    "> - **AKS만 사용**: `--platform linux/amd64`만으로도 충분합니다\n",
    "> - **다양한 플랫폼 지원**: ARM64까지 지원하려면 `--platform linux/amd64,linux/arm64` 사용\n",
    "\n",
    "여기서는 로컬 테스트를 위해 AMD64 플랫폼만 빌드합니다. Docker Buildx를 사용하여 빌드합니다:"
   ]
  },
  {
   "cell_type": "code",
   "execution_count": 13,
   "id": "ce1c724b",
   "metadata": {},
   "outputs": [
    {
     "name": "stderr",
     "output_type": "stream",
     "text": [
      "#0 building with \"multiplatform\" instance using docker-container driver\n",
      "\n",
      "#1 [internal] load build definition from Dockerfile\n",
      "#1 transferring dockerfile: 556B done\n",
      "#1 DONE 0.0s\n",
      "\n",
      "#2 [internal] load metadata for docker.io/library/maven:3.9-eclipse-temurin-21\n",
      "#2 ...\n",
      "\n",
      "#3 [auth] library/eclipse-temurin:pull token for registry-1.docker.io\n",
      "#3 DONE 0.0s\n",
      "\n",
      "#4 [auth] library/maven:pull token for registry-1.docker.io\n",
      "#4 DONE 0.0s\n",
      "\n",
      "#5 [internal] load metadata for docker.io/library/eclipse-temurin:21-jre\n",
      "#5 ...\n",
      "\n",
      "#2 [internal] load metadata for docker.io/library/maven:3.9-eclipse-temurin-21\n",
      "#2 DONE 1.6s\n",
      "\n",
      "#5 [internal] load metadata for docker.io/library/eclipse-temurin:21-jre\n",
      "#5 DONE 1.6s\n",
      "\n",
      "#6 [internal] load .dockerignore\n",
      "#6 transferring context: 2B done\n",
      "#6 DONE 0.0s\n",
      "\n",
      "#7 [build 1/5] FROM docker.io/library/maven:3.9-eclipse-temurin-21@sha256:b948a41c07f27c2cc84c875372d7d50713386fca7c1711e49e234f68df3a33e1\n",
      "#7 resolve docker.io/library/maven:3.9-eclipse-temurin-21@sha256:b948a41c07f27c2cc84c875372d7d50713386fca7c1711e49e234f68df3a33e1 done\n",
      "#7 DONE 0.0s\n",
      "\n",
      "#8 [stage-1 1/4] FROM docker.io/library/eclipse-temurin:21-jre@sha256:e48ae1e7797cee055b4392e619c19a6653a018a47ab36bac9d6eb0e4d5061656\n",
      "#8 resolve docker.io/library/eclipse-temurin:21-jre@sha256:e48ae1e7797cee055b4392e619c19a6653a018a47ab36bac9d6eb0e4d5061656 done\n",
      "#8 DONE 0.0s\n",
      "\n",
      "#9 [internal] load build context\n",
      "#9 transferring context: 1.20kB done\n",
      "#9 DONE 0.0s\n",
      "\n",
      "#10 [build 3/5] COPY pom.xml .\n",
      "#10 CACHED\n",
      "\n",
      "#11 [build 5/5] RUN mvn clean package -Dmaven.test.skip=true\n",
      "#11 CACHED\n",
      "\n",
      "#12 [build 4/5] COPY src ./src\n",
      "#12 CACHED\n",
      "\n",
      "#13 [stage-1 2/4] RUN groupadd -r spring && useradd -r -g spring spring\n",
      "#13 CACHED\n",
      "\n",
      "#14 [stage-1 3/4] WORKDIR /app\n",
      "#14 CACHED\n",
      "\n",
      "#15 [build 2/5] WORKDIR /app\n",
      "#15 CACHED\n",
      "\n",
      "#16 [stage-1 4/4] COPY --from=build /app/target/*.jar app.jar\n",
      "#16 CACHED\n",
      "WARNING: No output specified with docker-container driver. Build result will only remain in the build cache. To push result image into registry use --push or to load image into docker use --load\n"
     ]
    },
    {
     "name": "stdout",
     "output_type": "stream",
     "text": [
      "\n",
      "✅ 이미지 빌드 완료 (AMD64 아키텍처)\n",
      "💡 ACR에 푸시할 때는 양쪽 플랫폼을 모두 빌드합니다 (섹션 6.7 참조)\n",
      "💡 ACR에 푸시할 때는 양쪽 플랫폼을 모두 빌드합니다 (섹션 6.7 참조)\n"
     ]
    }
   ],
   "source": [
    "%%bash\n",
    "cd springboot-docker-demo\n",
    "\n",
    "# buildx builder 생성 (처음 한 번만 실행)\n",
    "docker buildx create --name multiplatform --use 2>/dev/null || docker buildx use multiplatform\n",
    "\n",
    "# 멀티 플랫폼 이미지 빌드\n",
    "# 주의: 멀티 플랫폼은 --load 대신 로컬 Docker에 저장 (--output type=docker)\n",
    "# 또는 현재 플랫폼만 빌드하여 로컬에서 테스트\n",
    "docker buildx build --platform linux/amd64 -t myapp:latest .\n",
    "\n",
    "echo \"\"\n",
    "echo \"✅ 이미지 빌드 완료 (AMD64 아키텍처)\"\n",
    "echo \"💡 ACR에 푸시할 때는 양쪽 플랫폼을 모두 빌드합니다 (섹션 6.7 참조)\""
   ]
  },
  {
   "cell_type": "markdown",
   "id": "16605fc1",
   "metadata": {},
   "source": [
    "### 4.3 빌드된 이미지 확인\n",
    "\n",
    "빌드가 완료되면 이미지 목록을 확인할 수 있습니다."
   ]
  },
  {
   "cell_type": "code",
   "execution_count": 14,
   "id": "ed906797",
   "metadata": {},
   "outputs": [
    {
     "name": "stdout",
     "output_type": "stream",
     "text": [
      "REPOSITORY                                                                                       TAG                     IMAGE ID       CREATED        SIZE\n",
      "myapp                                                                                            latest                  00321cceb575   2 hours ago    119MB\n",
      "acr1760335602.azurecr.io/spring-cicd-labs                                                        v1                      09868742c082   21 hours ago   502MB\n",
      "spring-cicd-labs                                                                                 local                   bb23ce3f0d21   21 hours ago   382MB\n",
      "acr1760332278.azurecr.io/spring-demo                                                             v1                      16b48d751b6d   22 hours ago   382MB\n",
      "spring-demo                                                                                      local                   16b48d751b6d   22 hours ago   382MB\n",
      "acr1760331093.azurecr.io/spring-demo                                                             v1                      8f1e2e7dfd72   23 hours ago   382MB\n",
      "vsc-spring-cicd-labs-ff5c25e65f21782948975b9579e0b99b891a13c512cb6a73b6e7ff1d5563482f-features   latest                  5e838b26edfb   26 hours ago   4.39GB\n",
      "spring-cicd-labs-test                                                                            latest                  3292631ca3e4   2 days ago     378MB\n",
      "spring-cicd-labs                                                                                 latest                  dab7d760da0a   2 days ago     378MB\n",
      "myacr1760169422.azurecr.io/myapp                                                                 latest                  0e8da66474af   2 days ago     112MB\n",
      "myacr1760159684.azurecr.io/myapp                                                                 latest                  554bb896c728   2 days ago     434MB\n",
      "myacr1760160175.azurecr.io/myapp                                                                 latest                  554bb896c728   2 days ago     434MB\n",
      "vsc-agentic-ai-labs-148d0cd601910a405c36fdff6a266cae0cad68b667bdbf001a7f3983b559f3d3-features    latest                  8a642fe8091e   6 days ago     3.87GB\n",
      "moby/buildkit                                                                                    buildx-stable-1         79cc6476ab1a   6 days ago     324MB\n",
      "test                                                                                             latest                  b74ab7fc6ef8   10 days ago    319MB\n",
      "main-agent                                                                                       latest                  ef474d03a979   11 days ago    73.8MB\n",
      "crhra6pihcdcf6u.azurecr.io/main-agent                                                            latest                  ef474d03a979   11 days ago    73.8MB\n",
      "crhra6pihcdcf6u.azurecr.io/writer-agent                                                          latest                  ea0f82de270e   11 days ago    73.8MB\n",
      "writer-agent                                                                                     latest                  ea0f82de270e   11 days ago    73.8MB\n",
      "crhra6pihcdcf6u.azurecr.io/researcher-agent                                                      latest                  a39cceaa193f   11 days ago    74.5MB\n",
      "researcher-agent                                                                                 latest                  a39cceaa193f   11 days ago    74.5MB\n",
      "ai-foundry-agent-lab/mcp-server-aiagent-7ym8zx                                                   azd-deploy-1759221727   a5f9b50bb88f   13 days ago    71.9MB\n",
      "ai-foundry-agent-lab-mcp-server                                                                  latest                  a5f9b50bb88f   13 days ago    71.9MB\n",
      "ai-foundry-agent-lab/evaluator-aiagent-7ym8zx                                                    azd-deploy-1759221726   cf73b2749065   13 days ago    133MB\n",
      "ai-foundry-agent-lab-evaluator                                                                   latest                  cf73b2749065   13 days ago    133MB\n",
      "ai-foundry-agent-lab/agent-writer-aiagent-7ym8zx                                                 azd-deploy-1759221726   7794fb96cbe8   13 days ago    73.9MB\n",
      "ai-foundry-agent-lab-agent-writer                                                                latest                  7794fb96cbe8   13 days ago    73.9MB\n",
      "ai-foundry-agent-lab/agent-researcher-aiagent-7ym8zx                                             azd-deploy-1759221725   9b1a7d5c21fb   13 days ago    74.6MB\n",
      "ai-foundry-agent-lab-agent-researcher                                                            latest                  9b1a7d5c21fb   13 days ago    74.6MB\n",
      "ai-foundry-agent-lab/agent-main-aiagent-7ym8zx                                                   azd-deploy-1759221725   bdb7a018524c   13 days ago    73.9MB\n",
      "ai-foundry-agent-lab-agent-main                                                                  latest                  bdb7a018524c   13 days ago    73.9MB\n",
      "crdevgnk4jc45gx324.azurecr.io/ai-foundry-labs/weather-mcp-junwoojeong                            azd-deploy-1758928842   3ed5b2adc660   2 weeks ago    62.5MB\n",
      "ai-foundry-labs/weather-mcp-junwoojeong                                                          azd-deploy-1758928842   3ed5b2adc660   2 weeks ago    62.5MB\n",
      "ai-foundry-labs/weather-mcp-junwoojeong                                                          azd-deploy-1758932718   3f54f5283c46   2 weeks ago    62.5MB\n",
      "ai-foundry-labs-weather-mcp                                                                      latest                  3f54f5283c46   2 weeks ago    62.5MB\n",
      "crdevgnk4jc45gx324.azurecr.io/ai-foundry-labs/weather-mcp-junwoojeong                            azd-deploy-1758891414   f28fe184b4e5   2 weeks ago    62.5MB\n",
      "ai-foundry-labs/weather-mcp-junwoojeong                                                          azd-deploy-1758891414   f28fe184b4e5   2 weeks ago    62.5MB\n",
      "crdevgnk4jc45gx324.azurecr.io/ai-foundry-labs/calculator-mcp-junwoojeong                         azd-deploy-1758891414   31a3c866df8c   2 weeks ago    83.8MB\n",
      "ai-foundry-labs/calculator-mcp-junwoojeong                                                       azd-deploy-1758891414   31a3c866df8c   2 weeks ago    83.8MB\n",
      "ai-foundry-labs/calculator-mcp-junwoojeong                                                       azd-deploy-1758933081   61417bc5bbf4   2 weeks ago    83.8MB\n",
      "ai-foundry-labs-calculator-mcp                                                                   latest                  61417bc5bbf4   2 weeks ago    83.8MB\n",
      "crdevgnk4jc45gx324.azurecr.io/ai-foundry-labs/calculator-mcp-junwoojeong                         azd-deploy-1758928842   f0234f94bd2a   2 weeks ago    83.8MB\n",
      "ai-foundry-labs/calculator-mcp-junwoojeong                                                       azd-deploy-1758928842   f0234f94bd2a   2 weeks ago    83.8MB\n",
      "ai-foundry-labs/api-junwoojeong                                                                  azd-deploy-1758932956   941da9f4a01e   2 weeks ago    369MB\n",
      "ai-foundry-labs-api                                                                              latest                  941da9f4a01e   2 weeks ago    369MB\n",
      "crdevgnk4jc45gx324.azurecr.io/ai-foundry-labs/api-junwoojeong                                    azd-deploy-1758891413   ff8176dd2b42   2 weeks ago    369MB\n",
      "ai-foundry-labs/api-junwoojeong                                                                  azd-deploy-1758891413   ff8176dd2b42   2 weeks ago    369MB\n",
      "crdevgnk4jc45gx324.azurecr.io/ai-foundry-labs/api-junwoojeong                                    azd-deploy-1758928841   83e549c88adb   2 weeks ago    369MB\n",
      "ai-foundry-labs/api-junwoojeong                                                                  azd-deploy-1758928841   83e549c88adb   2 weeks ago    369MB\n",
      "mcr.microsoft.com/devcontainers/java                                                             21-bullseye             bd1a72837179   5 weeks ago    2.03GB\n"
     ]
    }
   ],
   "source": [
    "!docker images"
   ]
  },
  {
   "cell_type": "markdown",
   "id": "48dc064d",
   "metadata": {},
   "source": [
    "## 5. 컨테이너 실행 실습\n",
    "\n",
    "빌드한 이미지를 기반으로 컨테이너를 실행하고 테스트합니다.\n",
    "\n",
    "> **GitHub Codespaces**: Codespaces에서는 포트 포워딩이 자동으로 설정되어, 실행 중인 컨테이너의 포트에 브라우저로 접근할 수 있습니다."
   ]
  },
  {
   "cell_type": "code",
   "execution_count": 15,
   "id": "bb5bb803",
   "metadata": {},
   "outputs": [
    {
     "name": "stdout",
     "output_type": "stream",
     "text": [
      "CONTAINER ID   IMAGE                           COMMAND                  CREATED       STATUS       PORTS     NAMES\n",
      "fea96ce2c119   moby/buildkit:buildx-stable-1   \"buildkitd --allow-i…\"   2 hours ago   Up 2 hours             buildx_buildkit_multiplatform0\n"
     ]
    }
   ],
   "source": [
    "!docker ps"
   ]
  },
  {
   "cell_type": "code",
   "execution_count": 16,
   "id": "f61e96d3",
   "metadata": {},
   "outputs": [
    {
     "name": "stdout",
     "output_type": "stream",
     "text": [
      "WARNING: The requested image's platform (linux/amd64) does not match the detected host platform (linux/arm64/v8) and no specific platform was requested\n",
      "6c65662d70e51bd4bac8427caf3d7a6dcdc29762f3b431485d62415bdaa0a8bd\n"
     ]
    }
   ],
   "source": [
    "!docker run -d -p 8080:8080 --name myapp myapp:latest"
   ]
  },
  {
   "cell_type": "markdown",
   "id": "74ec6f53",
   "metadata": {},
   "source": [
    "### 애플리케이션 테스트\n",
    "\n",
    "GitHub Codespaces에서는 포트 포워딩이 자동으로 설정됩니다. VS Code 하단의 \"PORTS\" 탭에서 8080 포트를 확인하고 브라우저로 접근할 수 있습니다.\n",
    "\n",
    "또는 아래 명령어로 터미널에서 테스트할 수 있습니다."
   ]
  },
  {
   "cell_type": "code",
   "execution_count": 17,
   "id": "3345c2bc",
   "metadata": {},
   "outputs": [
    {
     "name": "stdout",
     "output_type": "stream",
     "text": [
      "curl: (56) Recv failure: Connection reset by peer\n"
     ]
    }
   ],
   "source": [
    "!curl http://localhost:8080"
   ]
  },
  {
   "cell_type": "markdown",
   "id": "4e6d0ae8",
   "metadata": {},
   "source": [
    "## 6. Azure Container Registry(ACR) 생성 및 이미지 푸시\n",
    "\n",
    "Azure에 컨테이너 이미지를 저장하려면 ACR을 사용합니다. 이 섹션에서는 ACR을 생성하고 빌드한 이미지를 푸시하는 전체 과정을 실습합니다.\n",
    "\n",
    "### 6.1 Azure CLI 로그인\n",
    "\n",
    "GitHub Codespaces에는 Azure CLI가 이미 설치되어 있습니다. 먼저 Azure에 로그인합니다."
   ]
  },
  {
   "cell_type": "code",
   "execution_count": 18,
   "id": "bbdfcabf",
   "metadata": {},
   "outputs": [
    {
     "name": "stdout",
     "output_type": "stream",
     "text": [
      "================================================================================\n",
      "📋 AKS Mini Labs - 현재 설정\n",
      "================================================================================\n",
      "\n",
      "🏢 Azure 리소스:\n",
      "   리소스 그룹: aks-mini-labs-rg\n",
      "   위치: koreacentral\n",
      "   AKS 클러스터: aks-mini-labs-cluster\n",
      "   노드 수: 2\n",
      "   ACR 이름: (아직 생성되지 않음)\n",
      "\n",
      "📦 애플리케이션:\n",
      "   앱 이름: myapp\n",
      "   이미지 태그: latest\n",
      "⚠️  경고: ACR_NAME이 설정되지 않았습니다. config.py 파일을 업데이트하세요.\n",
      "   전체 이미지: (ACR 생성 후 사용 가능)\n",
      "   Replica 수: 2\n",
      "\n",
      "📊 모니터링:\n",
      "   Monitor 워크스페이스: aks-mini-labs-cluster-monitor\n",
      "   Grafana: aks-mini-labs-grafana\n",
      "\n",
      "🎯 HPA 설정:\n",
      "   최소 Replica: 2\n",
      "   최대 Replica: 10\n",
      "   CPU 임계값: 50%\n",
      "\n",
      "================================================================================\n"
     ]
    }
   ],
   "source": [
    "# 공통 설정 파일 import\n",
    "from config import *\n",
    "\n",
    "# 현재 설정 확인\n",
    "print_config()"
   ]
  },
  {
   "cell_type": "code",
   "execution_count": 19,
   "id": "5c5c1f1c",
   "metadata": {},
   "outputs": [
    {
     "name": "stdout",
     "output_type": "stream",
     "text": [
      "Azure 로그인 중...\n"
     ]
    },
    {
     "name": "stderr",
     "output_type": "stream",
     "text": [
      "/Users/junwoojeong/.azure/cliextensions/ai-examples/azext_ai_examples/custom.py:11: UserWarning: pkg_resources is deprecated as an API. See https://setuptools.pypa.io/en/latest/pkg_resources.html. The pkg_resources package is slated for removal as early as 2025-11-30. Refrain from using this package or pin to Setuptools<81.\n",
      "  from pkg_resources import parse_version\n",
      "WARNING: A web browser has been opened at https://login.microsoftonline.com/organizations/oauth2/v2.0/authorize. Please continue the login in the web browser. If no web browser is available or if the web browser fails to open, use device code flow with `az login --use-device-code`.\n"
     ]
    },
    {
     "name": "stdout",
     "output_type": "stream",
     "text": [
      "[\n",
      "  {\n",
      "    \"cloudName\": \"AzureCloud\",\n",
      "    \"homeTenantId\": \"2e8663e8-e15f-4dd9-b617-0cfc4f82adca\",\n",
      "    \"id\": \"8627ae60-01d3-4a2d-9c33-89dea54cd4b4\",\n",
      "    \"isDefault\": true,\n",
      "    \"managedByTenants\": [],\n",
      "    \"name\": \"Visual Studio Enterprise Subscription\",\n",
      "    \"state\": \"Enabled\",\n",
      "    \"tenantDefaultDomain\": \"joonoojeonggmail.onmicrosoft.com\",\n",
      "    \"tenantDisplayName\": \"기본 디렉터리\",\n",
      "    \"tenantId\": \"2e8663e8-e15f-4dd9-b617-0cfc4f82adca\",\n",
      "    \"user\": {\n",
      "      \"name\": \"joonoo.jeong@gmail.com\",\n",
      "      \"type\": \"user\"\n",
      "    }\n",
      "  }\n",
      "]\n",
      "✅ Azure 로그인 완료\n",
      "\n",
      "\n",
      "현재 기본 구독: Visual Studio Enterprise Subscription\n",
      "\n",
      "💡 다른 구독을 사용하려면 터미널에서 다음 명령을 실행하세요:\n",
      "   az account set --subscription \"<구독 이름 또는 ID>\"\n"
     ]
    }
   ],
   "source": [
    "import subprocess\n",
    "import json\n",
    "\n",
    "# Azure 로그인 (항상 새로 로그인)\n",
    "print(\"Azure 로그인 중...\")\n",
    "subprocess.run([\"az\", \"login\"], check=True)\n",
    "print(\"✅ Azure 로그인 완료\\n\")\n",
    "\n",
    "# 모든 구독 목록 조회\n",
    "accounts_result = subprocess.run(\n",
    "    [\"az\", \"account\", \"list\"],\n",
    "    capture_output=True,\n",
    "    text=True,\n",
    "    check=True\n",
    ")\n",
    "\n",
    "accounts = json.loads(accounts_result.stdout)\n",
    "\n",
    "# 현재 기본 구독 표시\n",
    "current = next((acc for acc in accounts if acc.get('isDefault')), None)\n",
    "if current:\n",
    "    print(f\"\\n현재 기본 구독: {current['name']}\")\n",
    "    print(f\"\\n💡 다른 구독을 사용하려면 터미널에서 다음 명령을 실행하세요:\")\n",
    "    print(f\"   az account set --subscription \\\"<구독 이름 또는 ID>\\\"\")"
   ]
  },
  {
   "cell_type": "markdown",
   "id": "c82d93e9",
   "metadata": {},
   "source": [
    "### 6.2 Azure 리소스 그룹 생성\n",
    "\n",
    "ACR을 생성하기 전에 리소스 그룹을 만들어야 합니다. 리소스 그룹은 관련된 Azure 리소스를 논리적으로 묶어주는 컨테이너 역할을 합니다."
   ]
  },
  {
   "cell_type": "code",
   "execution_count": 34,
   "id": "00e03653",
   "metadata": {},
   "outputs": [
    {
     "name": "stdout",
     "output_type": "stream",
     "text": [
      "📝 리소스 그룹 생성 설정:\n",
      "   이름: aks-mini-labs-rg\n",
      "   위치: koreacentral\n",
      "\n",
      "✅ 리소스 그룹 생성 완료!\n",
      "\n"
     ]
    },
    {
     "name": "stderr",
     "output_type": "stream",
     "text": [
      "/Users/junwoojeong/.azure/cliextensions/ai-examples/azext_ai_examples/custom.py:11: UserWarning: pkg_resources is deprecated as an API. See https://setuptools.pypa.io/en/latest/pkg_resources.html. The pkg_resources package is slated for removal as early as 2025-11-30. Refrain from using this package or pin to Setuptools<81.\n",
      "  from pkg_resources import parse_version\n"
     ]
    },
    {
     "name": "stdout",
     "output_type": "stream",
     "text": [
      "Name              Location      ProvisioningState\n",
      "----------------  ------------  -------------------\n",
      "aks-mini-labs-rg  koreacentral  Succeeded\n"
     ]
    }
   ],
   "source": [
    "import subprocess\n",
    "\n",
    "# config.py의 변수 사용\n",
    "print(f\"📝 리소스 그룹 생성 설정:\")\n",
    "print(f\"   이름: {RESOURCE_GROUP}\")\n",
    "print(f\"   위치: {LOCATION}\")\n",
    "print()\n",
    "\n",
    "# 리소스 그룹 생성\n",
    "result = subprocess.run([\n",
    "    \"az\", \"group\", \"create\",\n",
    "    \"--name\", RESOURCE_GROUP,\n",
    "    \"--location\", LOCATION\n",
    "], capture_output=True, text=True)\n",
    "\n",
    "if result.returncode == 0:\n",
    "    print(\"✅ 리소스 그룹 생성 완료!\")\n",
    "    print()\n",
    "    # 생성된 리소스 그룹 정보 확인\n",
    "    subprocess.run([\n",
    "        \"az\", \"group\", \"show\",\n",
    "        \"--name\", RESOURCE_GROUP,\n",
    "        \"--query\", \"{Name:name, Location:location, ProvisioningState:properties.provisioningState}\",\n",
    "        \"--output\", \"table\"\n",
    "    ])\n",
    "else:\n",
    "    print(\"❌ 리소스 그룹 생성 실패\")\n",
    "    print(result.stderr)"
   ]
  },
  {
   "cell_type": "markdown",
   "id": "bf33fcfd",
   "metadata": {},
   "source": [
    "### 6.3 ACR(Azure Container Registry) 생성\n",
    "\n",
    "이제 컨테이너 이미지를 저장할 ACR을 생성합니다.\n",
    "\n",
    "> **참고**: ACR 이름은 전역적으로 고유해야 하며, 5-50자의 영숫자만 사용 가능합니다."
   ]
  },
  {
   "cell_type": "code",
   "execution_count": 35,
   "id": "467de111",
   "metadata": {},
   "outputs": [
    {
     "name": "stdout",
     "output_type": "stream",
     "text": [
      "📝 ACR 생성 설정:\n",
      "   리소스 그룹: aks-mini-labs-rg\n",
      "   ACR 이름: myacr1760426545\n",
      "   SKU: Basic\n",
      "\n",
      "✅ ACR 생성 완료!\n",
      "   ACR 이름: myacr1760426545\n",
      "   로그인 서버: myacr1760426545.azurecr.io\n",
      "\n",
      "================================================================================\n",
      "⚠️  중요: 다음 단계를 수행하세요!\n",
      "================================================================================\n",
      "1. config.py 파일을 열고 ACR_NAME 값을 업데이트하세요:\n",
      "   ACR_NAME = \"myacr1760426545\"\n",
      "\n",
      "2. 이렇게 하면 02, 03번 노트북에서 동일한 ACR을 자동으로 사용할 수 있습니다.\n",
      "================================================================================\n"
     ]
    }
   ],
   "source": [
    "import subprocess\n",
    "import time\n",
    "\n",
    "# ACR 이름 생성 (타임스탬프로 고유한 이름 생성)\n",
    "ACR_NAME = f\"myacr{int(time.time())}\"\n",
    "SKU = \"Basic\"\n",
    "\n",
    "print(f\"📝 ACR 생성 설정:\")\n",
    "print(f\"   리소스 그룹: {RESOURCE_GROUP}\")\n",
    "print(f\"   ACR 이름: {ACR_NAME}\")\n",
    "print(f\"   SKU: {SKU}\")\n",
    "print()\n",
    "\n",
    "# ACR 생성\n",
    "result = subprocess.run([\n",
    "    \"az\", \"acr\", \"create\",\n",
    "    \"--resource-group\", RESOURCE_GROUP,\n",
    "    \"--name\", ACR_NAME,\n",
    "    \"--sku\", SKU,\n",
    "    \"--admin-enabled\", \"true\"\n",
    "], capture_output=True, text=True)\n",
    "\n",
    "if result.returncode == 0:\n",
    "    print(\"✅ ACR 생성 완료!\")\n",
    "    print(f\"   ACR 이름: {ACR_NAME}\")\n",
    "    print(f\"   로그인 서버: {ACR_NAME}.azurecr.io\")\n",
    "    print()\n",
    "    print(\"=\" * 80)\n",
    "    print(\"⚠️  중요: 다음 단계를 수행하세요!\")\n",
    "    print(\"=\" * 80)\n",
    "    print(f\"1. config.py 파일을 열고 ACR_NAME 값을 업데이트하세요:\")\n",
    "    print(f\"   ACR_NAME = \\\"{ACR_NAME}\\\"\")\n",
    "    print()\n",
    "    print(\"2. 이렇게 하면 02, 03번 노트북에서 동일한 ACR을 자동으로 사용할 수 있습니다.\")\n",
    "    print(\"=\" * 80)\n",
    "else:\n",
    "    print(\"❌ ACR 생성 실패\")\n",
    "    print(result.stderr)"
   ]
  },
  {
   "cell_type": "markdown",
   "id": "cbb48036",
   "metadata": {},
   "source": [
    "### 6.4 ACR 정보 확인\n",
    "\n",
    "생성된 ACR의 상세 정보를 확인합니다."
   ]
  },
  {
   "cell_type": "code",
   "execution_count": 36,
   "id": "e740fd16",
   "metadata": {},
   "outputs": [
    {
     "name": "stdout",
     "output_type": "stream",
     "text": [
      "Name             LoginServer                 SKU    Location\n",
      "---------------  --------------------------  -----  ------------\n",
      "myacr1760426545  myacr1760426545.azurecr.io  Basic  koreacentral\n",
      "\n"
     ]
    }
   ],
   "source": [
    "import subprocess\n",
    "\n",
    "# 위 셀에서 생성된 ACR_NAME 변수 사용\n",
    "result = subprocess.run([\n",
    "    \"az\", \"acr\", \"show\",\n",
    "    \"--name\", ACR_NAME,\n",
    "    \"--query\", \"{Name:name, LoginServer:loginServer, SKU:sku.name, Location:location}\",\n",
    "    \"--output\", \"table\"\n",
    "], capture_output=True, text=True)\n",
    "\n",
    "print(result.stdout)"
   ]
  },
  {
   "cell_type": "markdown",
   "id": "13a1eeba",
   "metadata": {},
   "source": [
    "### 6.5 ACR에 로그인\n",
    "\n",
    "Docker가 ACR에 이미지를 푸시할 수 있도록 ACR에 로그인합니다."
   ]
  },
  {
   "cell_type": "code",
   "execution_count": 37,
   "id": "ccd01126",
   "metadata": {},
   "outputs": [
    {
     "name": "stdout",
     "output_type": "stream",
     "text": [
      "Login Succeeded\n",
      "\n",
      "\n",
      "✅ ACR 로그인 성공!\n"
     ]
    }
   ],
   "source": [
    "import subprocess\n",
    "\n",
    "# ACR에 로그인\n",
    "result = subprocess.run([\n",
    "    \"az\", \"acr\", \"login\",\n",
    "    \"--name\", ACR_NAME\n",
    "], capture_output=True, text=True)\n",
    "\n",
    "print(result.stdout)\n",
    "print(\"\")\n",
    "print(\"✅ ACR 로그인 성공!\")"
   ]
  },
  {
   "cell_type": "markdown",
   "id": "2ef81281",
   "metadata": {},
   "source": [
    "### 6.6 이미지 태깅\n",
    "\n",
    "ACR로 이미지를 푸시하기 전에 ACR 주소로 태깅해야 합니다."
   ]
  },
  {
   "cell_type": "code",
   "execution_count": 38,
   "id": "67793c68",
   "metadata": {},
   "outputs": [
    {
     "name": "stdout",
     "output_type": "stream",
     "text": [
      "\n",
      "✅ 이미지 태깅 완료: myacr1760426545.azurecr.io/myapp:latest\n",
      "\n",
      "💡 사용된 config.py 변수:\n",
      "   ACR_NAME: myacr1760426545\n",
      "   APP_NAME: myapp\n",
      "   IMAGE_TAG: latest\n"
     ]
    }
   ],
   "source": [
    "import subprocess\n",
    "\n",
    "# config.py의 헬퍼 함수 사용\n",
    "ACR_LOGIN_SERVER = get_acr_login_server(ACR_NAME)\n",
    "IMAGE_NAME = f\"{ACR_LOGIN_SERVER}/{APP_NAME}:{IMAGE_TAG}\"\n",
    "\n",
    "# 이미지 태깅\n",
    "result = subprocess.run([\n",
    "    \"docker\", \"tag\",\n",
    "    f\"{APP_NAME}:{IMAGE_TAG}\",\n",
    "    IMAGE_NAME\n",
    "], capture_output=True, text=True)\n",
    "\n",
    "print(result.stdout)\n",
    "print(f\"✅ 이미지 태깅 완료: {IMAGE_NAME}\")\n",
    "print()\n",
    "print(\"💡 사용된 config.py 변수:\")\n",
    "print(f\"   ACR_NAME: {ACR_NAME}\")\n",
    "print(f\"   APP_NAME: {APP_NAME}\")\n",
    "print(f\"   IMAGE_TAG: {IMAGE_TAG}\")"
   ]
  },
  {
   "cell_type": "markdown",
   "id": "36bfb1a5",
   "metadata": {},
   "source": [
    "### 6.7 ACR에 이미지 푸시\n",
    "\n",
    "**멀티 플랫폼 빌드 및 푸시**\n",
    "\n",
    "> 💡 **플랫폼 선택 가이드**\n",
    "> - **AKS만 사용**: `--platform linux/amd64`만으로도 충분합니다\n",
    "> - **다양한 플랫폼 지원**: ARM64까지 지원하려면 `--platform linux/amd64,linux/arm64` 사용\n",
    "\n",
    "Docker Buildx를 사용하여 여러 플랫폼용 이미지를 동시에 빌드하고 ACR에 푸시합니다:"
   ]
  },
  {
   "cell_type": "code",
   "execution_count": 39,
   "id": "77222a99",
   "metadata": {},
   "outputs": [
    {
     "name": "stdout",
     "output_type": "stream",
     "text": [
      "🚀 멀티 플랫폼 이미지 빌드 및 푸시 시작...\n",
      "   대상: myacr1760426545.azurecr.io/myapp:latest\n",
      "   플랫폼: linux/amd64, linux/arm64\n",
      "\n",
      "\n",
      "\n",
      "✅ 멀티 플랫폼 이미지 푸시 완료: myacr1760426545.azurecr.io/myapp:latest\n",
      "\n",
      "📦 포함된 플랫폼:\n",
      "   - linux/amd64 (AKS, 대부분의 클라우드)\n",
      "   - linux/arm64 (M1/M2 Mac, ARM 서버)\n",
      "\n",
      "💡 다음 단계:\n",
      "   1. config.py 파일의 ACR_NAME을 'myacr1760426545'로 업데이트하세요\n",
      "   2. 02번 노트북(02-aks-hands-on.ipynb)에서 이 이미지를 AKS에 배포할 수 있습니다\n"
     ]
    }
   ],
   "source": [
    "import subprocess\n",
    "\n",
    "# config.py의 헬퍼 함수 사용하여 전체 이미지 이름 생성\n",
    "IMAGE_NAME = get_full_image_name(ACR_NAME, APP_NAME, IMAGE_TAG)\n",
    "\n",
    "print(\"🚀 멀티 플랫폼 이미지 빌드 및 푸시 시작...\")\n",
    "print(f\"   대상: {IMAGE_NAME}\")\n",
    "print(f\"   플랫폼: linux/amd64, linux/arm64\")\n",
    "print()\n",
    "\n",
    "# buildx를 사용한 멀티 플랫폼 빌드 및 직접 푸시\n",
    "# --push 옵션을 사용하면 빌드 후 자동으로 레지스트리에 푸시됨\n",
    "result = subprocess.run([\n",
    "    \"docker\", \"buildx\", \"build\",\n",
    "    \"--platform\", \"linux/amd64,linux/arm64\",\n",
    "    \"-t\", IMAGE_NAME,\n",
    "    \"--push\",\n",
    "    \"springboot-docker-demo\"\n",
    "], capture_output=True, text=True)\n",
    "\n",
    "if result.returncode == 0:\n",
    "    print(result.stdout)\n",
    "    print()\n",
    "    print(f\"✅ 멀티 플랫폼 이미지 푸시 완료: {IMAGE_NAME}\")\n",
    "    print()\n",
    "    print(\"📦 포함된 플랫폼:\")\n",
    "    print(\"   - linux/amd64 (AKS, 대부분의 클라우드)\")\n",
    "    print(\"   - linux/arm64 (M1/M2 Mac, ARM 서버)\")\n",
    "    print()\n",
    "    print(\"💡 다음 단계:\")\n",
    "    print(f\"   1. config.py 파일의 ACR_NAME을 '{ACR_NAME}'로 업데이트하세요\")\n",
    "    print(\"   2. 02번 노트북(02-aks-hands-on.ipynb)에서 이 이미지를 AKS에 배포할 수 있습니다\")\n",
    "else:\n",
    "    print(\"❌ 이미지 푸시 실패:\")\n",
    "    print(result.stderr)"
   ]
  },
  {
   "cell_type": "markdown",
   "id": "fc34f7c6",
   "metadata": {},
   "source": [
    "### 6.8 ACR 이미지 목록 확인\n",
    "\n",
    "ACR에 푸시된 이미지를 확인합니다."
   ]
  },
  {
   "cell_type": "code",
   "execution_count": 40,
   "id": "87dc8420",
   "metadata": {},
   "outputs": [
    {
     "name": "stdout",
     "output_type": "stream",
     "text": [
      "Result\n",
      "--------\n",
      "myapp\n",
      "\n",
      "\n",
      "✅ ACR에 저장된 이미지 목록 확인 완료!\n"
     ]
    }
   ],
   "source": [
    "import subprocess\n",
    "\n",
    "# ACR에 푸시된 이미지 목록 확인\n",
    "result = subprocess.run([\n",
    "    \"az\", \"acr\", \"repository\", \"list\",\n",
    "    \"--name\", ACR_NAME,\n",
    "    \"--output\", \"table\"\n",
    "], capture_output=True, text=True)\n",
    "\n",
    "print(result.stdout)\n",
    "print(\"\")\n",
    "print(\"✅ ACR에 저장된 이미지 목록 확인 완료!\")"
   ]
  },
  {
   "cell_type": "markdown",
   "id": "2a0acb0e",
   "metadata": {},
   "source": [
    "## 7. 정리\n",
    "\n",
    "이 노트북에서는 컨테이너의 기본 개념부터 실제 Spring Boot 애플리케이션을 컨테이너 이미지로 빌드하고, 실행 및 Azure Container Registry(ACR)로 푸시하는 전체 과정을 GitHub Codespaces 환경에서 실습했습니다.\n",
    "\n",
    "### 실습한 내용 요약\n",
    "- ✅ Python 가상환경 생성 및 패키지 설치\n",
    "- ✅ 컨테이너 개념 및 아키텍처 이해\n",
    "- ✅ Spring Boot 애플리케이션 작성\n",
    "- ✅ 플랫폼 중립적 Dockerfile 작성 및 이미지 빌드\n",
    "- ✅ 컨테이너 실행 및 테스트\n",
    "- ✅ Azure 리소스 그룹 및 ACR 생성\n",
    "- ✅ Azure Container Registry에 이미지 푸시\n",
    "\n",
    "\n",
    "> **다음 단계**: `02-aks-hands-on.ipynb`에서 ACR에 푸시한 이미지를 AKS(Azure Kubernetes Service) 클러스터에 배포하는 방법을 실습합니다."
   ]
  }
 ],
 "metadata": {
  "kernelspec": {
   "display_name": ".venv (3.12.12)",
   "language": "python",
   "name": "python3"
  },
  "language_info": {
   "codemirror_mode": {
    "name": "ipython",
    "version": 3
   },
   "file_extension": ".py",
   "mimetype": "text/x-python",
   "name": "python",
   "nbconvert_exporter": "python",
   "pygments_lexer": "ipython3",
   "version": "3.12.12"
  }
 },
 "nbformat": 4,
 "nbformat_minor": 5
}
